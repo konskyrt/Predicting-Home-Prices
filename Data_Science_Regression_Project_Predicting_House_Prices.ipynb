{
 "cells": [
  {
   "cell_type": "code",
   "execution_count": 1,
   "metadata": {
    "colab": {},
    "colab_type": "code",
    "id": "WnbrcGHy-si1"
   },
   "outputs": [],
   "source": [
    "import pandas as pd\n",
    "import numpy as np\n",
    "from matplotlib import pyplot as plt\n",
    "%matplotlib inline\n",
    "import matplotlib \n",
    "matplotlib.rcParams[\"figure.figsize\"] = (20,10)"
   ]
  },
  {
   "cell_type": "markdown",
   "metadata": {
    "colab_type": "text",
    "id": "uzrBnAAB_JjL"
   },
   "source": [
    "\n",
    "Data Load: Load house prices into a dataframe"
   ]
  },
  {
   "cell_type": "code",
   "execution_count": 3,
   "metadata": {
    "colab": {},
    "colab_type": "code",
    "id": "cPw-dw2U_1QF"
   },
   "outputs": [],
   "source": [
    "project_dir = \"/gdrive/Propulsion/data\""
   ]
  },
  {
   "cell_type": "code",
   "execution_count": 19,
   "metadata": {
    "colab": {
     "base_uri": "https://localhost:8080/",
     "height": 658
    },
    "colab_type": "code",
    "id": "WEiJZtt4_KBD",
    "outputId": "89be508c-dd3b-4987-90ca-7b1b3de0818e"
   },
   "outputs": [
    {
     "data": {
      "text/html": [
       "<div>\n",
       "<style scoped>\n",
       "    .dataframe tbody tr th:only-of-type {\n",
       "        vertical-align: middle;\n",
       "    }\n",
       "\n",
       "    .dataframe tbody tr th {\n",
       "        vertical-align: top;\n",
       "    }\n",
       "\n",
       "    .dataframe thead th {\n",
       "        text-align: right;\n",
       "    }\n",
       "</style>\n",
       "<table border=\"1\" class=\"dataframe\">\n",
       "  <thead>\n",
       "    <tr style=\"text-align: right;\">\n",
       "      <th></th>\n",
       "      <th>Unnamed: 0</th>\n",
       "      <th>id</th>\n",
       "      <th>listingType.type</th>\n",
       "      <th>listing.address.country</th>\n",
       "      <th>listing.address.geoCoordinates.accuracy</th>\n",
       "      <th>listing.address.geoCoordinates.manual</th>\n",
       "      <th>listing.address.geoCoordinates.latitude</th>\n",
       "      <th>listing.address.geoCoordinates.longitude</th>\n",
       "      <th>listing.address.geoHierarchy.placeId</th>\n",
       "      <th>listing.address.geoHierarchy.zip</th>\n",
       "      <th>...</th>\n",
       "      <th>listing.characteristics.isUnderRoof</th>\n",
       "      <th>listing.characteristics.isGroundFloor</th>\n",
       "      <th>listing.characteristics.hasFlatSharingCommunity</th>\n",
       "      <th>listing.characteristics.isMiddleHouse</th>\n",
       "      <th>listing.characteristics.isCornerHouse</th>\n",
       "      <th>listing.characteristics.hasSwimmingPool</th>\n",
       "      <th>listing.characteristics.hasGasSupply</th>\n",
       "      <th>listing.characteristics.hasGardenShed</th>\n",
       "      <th>listing.characteristics.hallHeight</th>\n",
       "      <th>listing.characteristics.hasLiftingPlatform</th>\n",
       "    </tr>\n",
       "  </thead>\n",
       "  <tbody>\n",
       "    <tr>\n",
       "      <th>0</th>\n",
       "      <td>0</td>\n",
       "      <td>3000895330</td>\n",
       "      <td>TOP</td>\n",
       "      <td>CH</td>\n",
       "      <td>HIGH</td>\n",
       "      <td>True</td>\n",
       "      <td>47.353889</td>\n",
       "      <td>8.556962</td>\n",
       "      <td>35533</td>\n",
       "      <td>8008</td>\n",
       "      <td>...</td>\n",
       "      <td>False</td>\n",
       "      <td>False</td>\n",
       "      <td>False</td>\n",
       "      <td>False</td>\n",
       "      <td>False</td>\n",
       "      <td>False</td>\n",
       "      <td>False</td>\n",
       "      <td>False</td>\n",
       "      <td>NaN</td>\n",
       "      <td>False</td>\n",
       "    </tr>\n",
       "    <tr>\n",
       "      <th>1</th>\n",
       "      <td>1</td>\n",
       "      <td>3000895308</td>\n",
       "      <td>STANDARD</td>\n",
       "      <td>CH</td>\n",
       "      <td>HIGH</td>\n",
       "      <td>True</td>\n",
       "      <td>47.354681</td>\n",
       "      <td>8.602949</td>\n",
       "      <td>35580</td>\n",
       "      <td>8053</td>\n",
       "      <td>...</td>\n",
       "      <td>False</td>\n",
       "      <td>False</td>\n",
       "      <td>False</td>\n",
       "      <td>False</td>\n",
       "      <td>False</td>\n",
       "      <td>False</td>\n",
       "      <td>False</td>\n",
       "      <td>False</td>\n",
       "      <td>NaN</td>\n",
       "      <td>False</td>\n",
       "    </tr>\n",
       "    <tr>\n",
       "      <th>2</th>\n",
       "      <td>2</td>\n",
       "      <td>3000895260</td>\n",
       "      <td>STANDARD</td>\n",
       "      <td>CH</td>\n",
       "      <td>MEDIUM</td>\n",
       "      <td>False</td>\n",
       "      <td>47.386736</td>\n",
       "      <td>8.488097</td>\n",
       "      <td>35572</td>\n",
       "      <td>8048</td>\n",
       "      <td>...</td>\n",
       "      <td>False</td>\n",
       "      <td>False</td>\n",
       "      <td>False</td>\n",
       "      <td>False</td>\n",
       "      <td>False</td>\n",
       "      <td>False</td>\n",
       "      <td>False</td>\n",
       "      <td>False</td>\n",
       "      <td>NaN</td>\n",
       "      <td>False</td>\n",
       "    </tr>\n",
       "    <tr>\n",
       "      <th>3</th>\n",
       "      <td>3</td>\n",
       "      <td>3000895250</td>\n",
       "      <td>STANDARD</td>\n",
       "      <td>CH</td>\n",
       "      <td>HIGH</td>\n",
       "      <td>False</td>\n",
       "      <td>47.335091</td>\n",
       "      <td>8.532501</td>\n",
       "      <td>35559</td>\n",
       "      <td>8038</td>\n",
       "      <td>...</td>\n",
       "      <td>False</td>\n",
       "      <td>False</td>\n",
       "      <td>False</td>\n",
       "      <td>False</td>\n",
       "      <td>False</td>\n",
       "      <td>False</td>\n",
       "      <td>False</td>\n",
       "      <td>False</td>\n",
       "      <td>NaN</td>\n",
       "      <td>False</td>\n",
       "    </tr>\n",
       "    <tr>\n",
       "      <th>4</th>\n",
       "      <td>4</td>\n",
       "      <td>3000895213</td>\n",
       "      <td>STANDARD</td>\n",
       "      <td>CH</td>\n",
       "      <td>HIGH</td>\n",
       "      <td>False</td>\n",
       "      <td>47.408682</td>\n",
       "      <td>8.556563</td>\n",
       "      <td>35574</td>\n",
       "      <td>8050</td>\n",
       "      <td>...</td>\n",
       "      <td>False</td>\n",
       "      <td>False</td>\n",
       "      <td>False</td>\n",
       "      <td>False</td>\n",
       "      <td>False</td>\n",
       "      <td>False</td>\n",
       "      <td>False</td>\n",
       "      <td>False</td>\n",
       "      <td>NaN</td>\n",
       "      <td>False</td>\n",
       "    </tr>\n",
       "    <tr>\n",
       "      <th>...</th>\n",
       "      <td>...</td>\n",
       "      <td>...</td>\n",
       "      <td>...</td>\n",
       "      <td>...</td>\n",
       "      <td>...</td>\n",
       "      <td>...</td>\n",
       "      <td>...</td>\n",
       "      <td>...</td>\n",
       "      <td>...</td>\n",
       "      <td>...</td>\n",
       "      <td>...</td>\n",
       "      <td>...</td>\n",
       "      <td>...</td>\n",
       "      <td>...</td>\n",
       "      <td>...</td>\n",
       "      <td>...</td>\n",
       "      <td>...</td>\n",
       "      <td>...</td>\n",
       "      <td>...</td>\n",
       "      <td>...</td>\n",
       "      <td>...</td>\n",
       "    </tr>\n",
       "    <tr>\n",
       "      <th>4764</th>\n",
       "      <td>100</td>\n",
       "      <td>3000294719</td>\n",
       "      <td>STANDARD</td>\n",
       "      <td>CH</td>\n",
       "      <td>MEDIUM</td>\n",
       "      <td>False</td>\n",
       "      <td>47.669658</td>\n",
       "      <td>8.640890</td>\n",
       "      <td>35718</td>\n",
       "      <td>8248</td>\n",
       "      <td>...</td>\n",
       "      <td>False</td>\n",
       "      <td>True</td>\n",
       "      <td>False</td>\n",
       "      <td>False</td>\n",
       "      <td>False</td>\n",
       "      <td>False</td>\n",
       "      <td>False</td>\n",
       "      <td>False</td>\n",
       "      <td>NaN</td>\n",
       "      <td>False</td>\n",
       "    </tr>\n",
       "    <tr>\n",
       "      <th>4765</th>\n",
       "      <td>101</td>\n",
       "      <td>3000288909</td>\n",
       "      <td>STANDARD</td>\n",
       "      <td>CH</td>\n",
       "      <td>HIGH</td>\n",
       "      <td>False</td>\n",
       "      <td>47.641804</td>\n",
       "      <td>8.600154</td>\n",
       "      <td>35850</td>\n",
       "      <td>8462</td>\n",
       "      <td>...</td>\n",
       "      <td>False</td>\n",
       "      <td>False</td>\n",
       "      <td>True</td>\n",
       "      <td>False</td>\n",
       "      <td>False</td>\n",
       "      <td>False</td>\n",
       "      <td>False</td>\n",
       "      <td>False</td>\n",
       "      <td>NaN</td>\n",
       "      <td>False</td>\n",
       "    </tr>\n",
       "    <tr>\n",
       "      <th>4766</th>\n",
       "      <td>102</td>\n",
       "      <td>3000236595</td>\n",
       "      <td>STANDARD</td>\n",
       "      <td>CH</td>\n",
       "      <td>HIGH</td>\n",
       "      <td>False</td>\n",
       "      <td>47.570332</td>\n",
       "      <td>8.598484</td>\n",
       "      <td>35822</td>\n",
       "      <td>8415</td>\n",
       "      <td>...</td>\n",
       "      <td>False</td>\n",
       "      <td>False</td>\n",
       "      <td>False</td>\n",
       "      <td>False</td>\n",
       "      <td>False</td>\n",
       "      <td>False</td>\n",
       "      <td>False</td>\n",
       "      <td>False</td>\n",
       "      <td>NaN</td>\n",
       "      <td>False</td>\n",
       "    </tr>\n",
       "    <tr>\n",
       "      <th>4767</th>\n",
       "      <td>103</td>\n",
       "      <td>2147965195</td>\n",
       "      <td>STANDARD</td>\n",
       "      <td>CH</td>\n",
       "      <td>HIGH</td>\n",
       "      <td>NaN</td>\n",
       "      <td>47.691967</td>\n",
       "      <td>8.637208</td>\n",
       "      <td>35715</td>\n",
       "      <td>8245</td>\n",
       "      <td>...</td>\n",
       "      <td>False</td>\n",
       "      <td>False</td>\n",
       "      <td>False</td>\n",
       "      <td>False</td>\n",
       "      <td>False</td>\n",
       "      <td>False</td>\n",
       "      <td>False</td>\n",
       "      <td>False</td>\n",
       "      <td>NaN</td>\n",
       "      <td>False</td>\n",
       "    </tr>\n",
       "    <tr>\n",
       "      <th>4768</th>\n",
       "      <td>104</td>\n",
       "      <td>2147818592</td>\n",
       "      <td>STANDARD</td>\n",
       "      <td>CH</td>\n",
       "      <td>HIGH</td>\n",
       "      <td>False</td>\n",
       "      <td>47.645195</td>\n",
       "      <td>8.604028</td>\n",
       "      <td>35850</td>\n",
       "      <td>8462</td>\n",
       "      <td>...</td>\n",
       "      <td>False</td>\n",
       "      <td>False</td>\n",
       "      <td>True</td>\n",
       "      <td>False</td>\n",
       "      <td>False</td>\n",
       "      <td>False</td>\n",
       "      <td>False</td>\n",
       "      <td>False</td>\n",
       "      <td>NaN</td>\n",
       "      <td>False</td>\n",
       "    </tr>\n",
       "  </tbody>\n",
       "</table>\n",
       "<p>4769 rows × 97 columns</p>\n",
       "</div>"
      ],
      "text/plain": [
       "      Unnamed: 0          id listingType.type listing.address.country  \\\n",
       "0              0  3000895330              TOP                      CH   \n",
       "1              1  3000895308         STANDARD                      CH   \n",
       "2              2  3000895260         STANDARD                      CH   \n",
       "3              3  3000895250         STANDARD                      CH   \n",
       "4              4  3000895213         STANDARD                      CH   \n",
       "...          ...         ...              ...                     ...   \n",
       "4764         100  3000294719         STANDARD                      CH   \n",
       "4765         101  3000288909         STANDARD                      CH   \n",
       "4766         102  3000236595         STANDARD                      CH   \n",
       "4767         103  2147965195         STANDARD                      CH   \n",
       "4768         104  2147818592         STANDARD                      CH   \n",
       "\n",
       "     listing.address.geoCoordinates.accuracy  \\\n",
       "0                                       HIGH   \n",
       "1                                       HIGH   \n",
       "2                                     MEDIUM   \n",
       "3                                       HIGH   \n",
       "4                                       HIGH   \n",
       "...                                      ...   \n",
       "4764                                  MEDIUM   \n",
       "4765                                    HIGH   \n",
       "4766                                    HIGH   \n",
       "4767                                    HIGH   \n",
       "4768                                    HIGH   \n",
       "\n",
       "     listing.address.geoCoordinates.manual  \\\n",
       "0                                     True   \n",
       "1                                     True   \n",
       "2                                    False   \n",
       "3                                    False   \n",
       "4                                    False   \n",
       "...                                    ...   \n",
       "4764                                 False   \n",
       "4765                                 False   \n",
       "4766                                 False   \n",
       "4767                                   NaN   \n",
       "4768                                 False   \n",
       "\n",
       "      listing.address.geoCoordinates.latitude  \\\n",
       "0                                   47.353889   \n",
       "1                                   47.354681   \n",
       "2                                   47.386736   \n",
       "3                                   47.335091   \n",
       "4                                   47.408682   \n",
       "...                                       ...   \n",
       "4764                                47.669658   \n",
       "4765                                47.641804   \n",
       "4766                                47.570332   \n",
       "4767                                47.691967   \n",
       "4768                                47.645195   \n",
       "\n",
       "      listing.address.geoCoordinates.longitude  \\\n",
       "0                                     8.556962   \n",
       "1                                     8.602949   \n",
       "2                                     8.488097   \n",
       "3                                     8.532501   \n",
       "4                                     8.556563   \n",
       "...                                        ...   \n",
       "4764                                  8.640890   \n",
       "4765                                  8.600154   \n",
       "4766                                  8.598484   \n",
       "4767                                  8.637208   \n",
       "4768                                  8.604028   \n",
       "\n",
       "      listing.address.geoHierarchy.placeId  listing.address.geoHierarchy.zip  \\\n",
       "0                                    35533                              8008   \n",
       "1                                    35580                              8053   \n",
       "2                                    35572                              8048   \n",
       "3                                    35559                              8038   \n",
       "4                                    35574                              8050   \n",
       "...                                    ...                               ...   \n",
       "4764                                 35718                              8248   \n",
       "4765                                 35850                              8462   \n",
       "4766                                 35822                              8415   \n",
       "4767                                 35715                              8245   \n",
       "4768                                 35850                              8462   \n",
       "\n",
       "      ... listing.characteristics.isUnderRoof  \\\n",
       "0     ...                               False   \n",
       "1     ...                               False   \n",
       "2     ...                               False   \n",
       "3     ...                               False   \n",
       "4     ...                               False   \n",
       "...   ...                                 ...   \n",
       "4764  ...                               False   \n",
       "4765  ...                               False   \n",
       "4766  ...                               False   \n",
       "4767  ...                               False   \n",
       "4768  ...                               False   \n",
       "\n",
       "     listing.characteristics.isGroundFloor  \\\n",
       "0                                    False   \n",
       "1                                    False   \n",
       "2                                    False   \n",
       "3                                    False   \n",
       "4                                    False   \n",
       "...                                    ...   \n",
       "4764                                  True   \n",
       "4765                                 False   \n",
       "4766                                 False   \n",
       "4767                                 False   \n",
       "4768                                 False   \n",
       "\n",
       "      listing.characteristics.hasFlatSharingCommunity  \\\n",
       "0                                               False   \n",
       "1                                               False   \n",
       "2                                               False   \n",
       "3                                               False   \n",
       "4                                               False   \n",
       "...                                               ...   \n",
       "4764                                            False   \n",
       "4765                                             True   \n",
       "4766                                            False   \n",
       "4767                                            False   \n",
       "4768                                             True   \n",
       "\n",
       "     listing.characteristics.isMiddleHouse  \\\n",
       "0                                    False   \n",
       "1                                    False   \n",
       "2                                    False   \n",
       "3                                    False   \n",
       "4                                    False   \n",
       "...                                    ...   \n",
       "4764                                 False   \n",
       "4765                                 False   \n",
       "4766                                 False   \n",
       "4767                                 False   \n",
       "4768                                 False   \n",
       "\n",
       "     listing.characteristics.isCornerHouse  \\\n",
       "0                                    False   \n",
       "1                                    False   \n",
       "2                                    False   \n",
       "3                                    False   \n",
       "4                                    False   \n",
       "...                                    ...   \n",
       "4764                                 False   \n",
       "4765                                 False   \n",
       "4766                                 False   \n",
       "4767                                 False   \n",
       "4768                                 False   \n",
       "\n",
       "     listing.characteristics.hasSwimmingPool  \\\n",
       "0                                      False   \n",
       "1                                      False   \n",
       "2                                      False   \n",
       "3                                      False   \n",
       "4                                      False   \n",
       "...                                      ...   \n",
       "4764                                   False   \n",
       "4765                                   False   \n",
       "4766                                   False   \n",
       "4767                                   False   \n",
       "4768                                   False   \n",
       "\n",
       "      listing.characteristics.hasGasSupply  \\\n",
       "0                                    False   \n",
       "1                                    False   \n",
       "2                                    False   \n",
       "3                                    False   \n",
       "4                                    False   \n",
       "...                                    ...   \n",
       "4764                                 False   \n",
       "4765                                 False   \n",
       "4766                                 False   \n",
       "4767                                 False   \n",
       "4768                                 False   \n",
       "\n",
       "     listing.characteristics.hasGardenShed listing.characteristics.hallHeight  \\\n",
       "0                                    False                                NaN   \n",
       "1                                    False                                NaN   \n",
       "2                                    False                                NaN   \n",
       "3                                    False                                NaN   \n",
       "4                                    False                                NaN   \n",
       "...                                    ...                                ...   \n",
       "4764                                 False                                NaN   \n",
       "4765                                 False                                NaN   \n",
       "4766                                 False                                NaN   \n",
       "4767                                 False                                NaN   \n",
       "4768                                 False                                NaN   \n",
       "\n",
       "     listing.characteristics.hasLiftingPlatform  \n",
       "0                                         False  \n",
       "1                                         False  \n",
       "2                                         False  \n",
       "3                                         False  \n",
       "4                                         False  \n",
       "...                                         ...  \n",
       "4764                                      False  \n",
       "4765                                      False  \n",
       "4766                                      False  \n",
       "4767                                      False  \n",
       "4768                                      False  \n",
       "\n",
       "[4769 rows x 97 columns]"
      ]
     },
     "execution_count": 19,
     "metadata": {},
     "output_type": "execute_result"
    }
   ],
   "source": [
    "df1 = pd.read_csv(r\"\\Users\\Konstantinos\\Downloads\\all_district_houses.csv\")\n",
    "df1\n"
   ]
  },
  {
   "cell_type": "code",
   "execution_count": null,
   "metadata": {
    "colab": {
     "base_uri": "https://localhost:8080/",
     "height": 34
    },
    "colab_type": "code",
    "id": "GmYFFbJ__SzQ",
    "outputId": "aac6415d-2247-4985-c49b-cacfde39475a"
   },
   "outputs": [
    {
     "data": {
      "text/plain": [
       "(63023, 13)"
      ]
     },
     "execution_count": 5,
     "metadata": {
      "tags": []
     },
     "output_type": "execute_result"
    }
   ],
   "source": [
    "\n",
    "df1.shape"
   ]
  },
  {
   "cell_type": "code",
   "execution_count": null,
   "metadata": {
    "colab": {
     "base_uri": "https://localhost:8080/",
     "height": 85
    },
    "colab_type": "code",
    "id": "bT4s6fxnEh4x",
    "outputId": "a75a586d-54e3-44d2-8151-8ae19118cff8"
   },
   "outputs": [
    {
     "data": {
      "text/plain": [
       "Index(['Suburb', 'Address', 'Rooms', 'Type', 'Price', 'Method', 'SellerG',\n",
       "       'Date', 'Postcode', 'Regionname', 'Propertycount', 'Distance',\n",
       "       'CouncilArea'],\n",
       "      dtype='object')"
      ]
     },
     "execution_count": 6,
     "metadata": {
      "tags": []
     },
     "output_type": "execute_result"
    }
   ],
   "source": [
    "df1.columns"
   ]
  },
  {
   "cell_type": "code",
   "execution_count": null,
   "metadata": {
    "colab": {},
    "colab_type": "code",
    "id": "VJFvX_u-Ekdg"
   },
   "outputs": [],
   "source": [
    "# df1['Suburb'].unique()"
   ]
  },
  {
   "cell_type": "code",
   "execution_count": null,
   "metadata": {
    "colab": {
     "base_uri": "https://localhost:8080/",
     "height": 221
    },
    "colab_type": "code",
    "id": "PhXPL6rHEp_V",
    "outputId": "321da5d0-167b-4189-905f-49a4b6083e81"
   },
   "outputs": [
    {
     "data": {
      "text/plain": [
       "Reservoir         1241\n",
       "Bentleigh East     845\n",
       "Mount Waverley     831\n",
       "Richmond           822\n",
       "Glen Waverley      819\n",
       "                  ... \n",
       "Warneet              1\n",
       "Belgrave South       1\n",
       "Toolern Vale         1\n",
       "Castella             1\n",
       "Wildwood             1\n",
       "Name: Suburb, Length: 380, dtype: int64"
      ]
     },
     "execution_count": 8,
     "metadata": {
      "tags": []
     },
     "output_type": "execute_result"
    }
   ],
   "source": [
    "df1['Suburb'].value_counts()"
   ]
  },
  {
   "cell_type": "markdown",
   "metadata": {
    "colab_type": "text",
    "id": "CbcFEQvDFGOs"
   },
   "source": [
    "Drop features that are not required to build our model"
   ]
  },
  {
   "cell_type": "code",
   "execution_count": null,
   "metadata": {
    "colab": {
     "base_uri": "https://localhost:8080/",
     "height": 34
    },
    "colab_type": "code",
    "id": "S26QdnoqFGn5",
    "outputId": "dda06d69-f922-4d0a-d845-91612c442109"
   },
   "outputs": [
    {
     "data": {
      "text/plain": [
       "(63023, 4)"
      ]
     },
     "execution_count": 9,
     "metadata": {
      "tags": []
     },
     "output_type": "execute_result"
    }
   ],
   "source": [
    "\n",
    "\n",
    "df2 = df1.drop(['Address', 'Method', 'SellerG',\n",
    "       'Date', 'Postcode', 'Regionname', 'Propertycount', 'Distance',\n",
    "       'CouncilArea'],axis='columns')\n",
    "df2.shape"
   ]
  },
  {
   "cell_type": "markdown",
   "metadata": {
    "colab_type": "text",
    "id": "F-W1wJq_FoNb"
   },
   "source": [
    "\n",
    "Data Cleaning: Handle NA values"
   ]
  },
  {
   "cell_type": "code",
   "execution_count": null,
   "metadata": {
    "colab": {
     "base_uri": "https://localhost:8080/",
     "height": 102
    },
    "colab_type": "code",
    "id": "WSoZEICfFJIv",
    "outputId": "ec92ecec-b577-4372-e85c-135f32b207a7"
   },
   "outputs": [
    {
     "data": {
      "text/plain": [
       "Suburb        0\n",
       "Rooms         0\n",
       "Type          0\n",
       "Price     14590\n",
       "dtype: int64"
      ]
     },
     "execution_count": 10,
     "metadata": {
      "tags": []
     },
     "output_type": "execute_result"
    }
   ],
   "source": [
    "\n",
    "df2.isnull().sum()"
   ]
  },
  {
   "cell_type": "code",
   "execution_count": null,
   "metadata": {
    "colab": {
     "base_uri": "https://localhost:8080/",
     "height": 34
    },
    "colab_type": "code",
    "id": "QTU7CeGaFLNe",
    "outputId": "d6861f74-cfb5-4a96-bb63-2d1c45c5f596"
   },
   "outputs": [
    {
     "data": {
      "text/plain": [
       "(63023, 4)"
      ]
     },
     "execution_count": 11,
     "metadata": {
      "tags": []
     },
     "output_type": "execute_result"
    }
   ],
   "source": [
    "df2.shape"
   ]
  },
  {
   "cell_type": "code",
   "execution_count": null,
   "metadata": {
    "colab": {
     "base_uri": "https://localhost:8080/",
     "height": 102
    },
    "colab_type": "code",
    "id": "n1Du20EeFrhJ",
    "outputId": "1cfdf08f-5027-4b0f-c864-418cf7ae1c4b"
   },
   "outputs": [
    {
     "data": {
      "text/plain": [
       "Suburb    0\n",
       "Rooms     0\n",
       "Type      0\n",
       "Price     0\n",
       "dtype: int64"
      ]
     },
     "execution_count": 12,
     "metadata": {
      "tags": []
     },
     "output_type": "execute_result"
    }
   ],
   "source": [
    "df3 = df2.dropna()\n",
    "df3.isnull().sum()"
   ]
  },
  {
   "cell_type": "code",
   "execution_count": null,
   "metadata": {
    "colab": {
     "base_uri": "https://localhost:8080/",
     "height": 34
    },
    "colab_type": "code",
    "id": "8CpO4UnAFviR",
    "outputId": "10569f97-dd0b-4d7c-bee9-8b149c9f9614"
   },
   "outputs": [
    {
     "data": {
      "text/plain": [
       "(48433, 4)"
      ]
     },
     "execution_count": 13,
     "metadata": {
      "tags": []
     },
     "output_type": "execute_result"
    }
   ],
   "source": [
    "df3.shape"
   ]
  },
  {
   "cell_type": "markdown",
   "metadata": {
    "colab_type": "text",
    "id": "4DvL5HDyFzVL"
   },
   "source": [
    "Feature Engineering"
   ]
  },
  {
   "cell_type": "markdown",
   "metadata": {
    "colab_type": "text",
    "id": "gAGTOF3IF1sq"
   },
   "source": [
    "<!-- \n",
    "\n",
    "```\n",
    "# This is formatted as code\n",
    "```\n",
    "\n",
    "Add new feature(integer) for bhk (Bedrooms Hall Kitchen) -->"
   ]
  },
  {
   "cell_type": "markdown",
   "metadata": {
    "colab_type": "text",
    "id": "Pxx60l_xH6PD"
   },
   "source": [
    "Examine locations which is a categorical variable. We need to apply dimensionality reduction technique here to reduce number of locations"
   ]
  },
  {
   "cell_type": "code",
   "execution_count": null,
   "metadata": {
    "colab": {
     "base_uri": "https://localhost:8080/",
     "height": 342
    },
    "colab_type": "code",
    "id": "ws0-ie1eH1dz",
    "outputId": "63dcb5aa-6074-4547-cb59-9c77dda5d521"
   },
   "outputs": [
    {
     "name": "stderr",
     "output_type": "stream",
     "text": [
      "/usr/local/lib/python3.6/dist-packages/pandas/core/generic.py:5303: SettingWithCopyWarning: \n",
      "A value is trying to be set on a copy of a slice from a DataFrame.\n",
      "Try using .loc[row_indexer,col_indexer] = value instead\n",
      "\n",
      "See the caveats in the documentation: https://pandas.pydata.org/pandas-docs/stable/user_guide/indexing.html#returning-a-view-versus-a-copy\n",
      "  self[name] = value\n"
     ]
    },
    {
     "data": {
      "text/plain": [
       "Reservoir         1067\n",
       "Bentleigh East     696\n",
       "Richmond           642\n",
       "Craigieburn        598\n",
       "Preston            593\n",
       "                  ... \n",
       "Seville              1\n",
       "Castella             1\n",
       "Pentland Hills       1\n",
       "Warneet              1\n",
       "Don Valley           1\n",
       "Name: Suburb, Length: 370, dtype: int64"
      ]
     },
     "execution_count": 15,
     "metadata": {
      "tags": []
     },
     "output_type": "execute_result"
    }
   ],
   "source": [
    "df3.Suburb = df3.Suburb.apply(lambda x: x.strip())\n",
    "location_stats = df3['Suburb'].value_counts(ascending=False)\n",
    "location_stats"
   ]
  },
  {
   "cell_type": "code",
   "execution_count": null,
   "metadata": {
    "colab": {
     "base_uri": "https://localhost:8080/",
     "height": 34
    },
    "colab_type": "code",
    "id": "mrh4Y-7FH-4N",
    "outputId": "b95f9e8c-d094-4eec-c2a2-f09ddc51fdfa"
   },
   "outputs": [
    {
     "data": {
      "text/plain": [
       "48433"
      ]
     },
     "execution_count": 16,
     "metadata": {
      "tags": []
     },
     "output_type": "execute_result"
    }
   ],
   "source": [
    "location_stats.values.sum()"
   ]
  },
  {
   "cell_type": "code",
   "execution_count": null,
   "metadata": {
    "colab": {
     "base_uri": "https://localhost:8080/",
     "height": 34
    },
    "colab_type": "code",
    "id": "nb6V7M6VIDdl",
    "outputId": "789e71e3-a25a-4cd9-f78d-eb086a5b430c"
   },
   "outputs": [
    {
     "data": {
      "text/plain": [
       "301"
      ]
     },
     "execution_count": 17,
     "metadata": {
      "tags": []
     },
     "output_type": "execute_result"
    }
   ],
   "source": [
    "len(location_stats[location_stats>10])"
   ]
  },
  {
   "cell_type": "code",
   "execution_count": null,
   "metadata": {
    "colab": {
     "base_uri": "https://localhost:8080/",
     "height": 34
    },
    "colab_type": "code",
    "id": "ExA0RzzDIFN6",
    "outputId": "ae2b158b-5a68-48e9-909c-3f660e6d3f9a"
   },
   "outputs": [
    {
     "data": {
      "text/plain": [
       "370"
      ]
     },
     "execution_count": 18,
     "metadata": {
      "tags": []
     },
     "output_type": "execute_result"
    }
   ],
   "source": [
    "\n",
    "len(location_stats)"
   ]
  },
  {
   "cell_type": "code",
   "execution_count": null,
   "metadata": {
    "colab": {
     "base_uri": "https://localhost:8080/",
     "height": 34
    },
    "colab_type": "code",
    "id": "lsXtKwMhIHLu",
    "outputId": "547c0443-3f13-4f57-e45b-0a34c213eb67"
   },
   "outputs": [
    {
     "data": {
      "text/plain": [
       "69"
      ]
     },
     "execution_count": 19,
     "metadata": {
      "tags": []
     },
     "output_type": "execute_result"
    }
   ],
   "source": [
    "len(location_stats[location_stats<=10])"
   ]
  },
  {
   "cell_type": "markdown",
   "metadata": {
    "colab_type": "text",
    "id": "OpprHGceIOma"
   },
   "source": [
    "\n",
    "Dimensionality Reduction:\n",
    "Any location having less than 10 data points should be tagged as \"other\" location. This way number of categories can be reduced by huge amount. Later on when we do one hot encoding, it will help us with having fewer dummy columns"
   ]
  },
  {
   "cell_type": "code",
   "execution_count": null,
   "metadata": {
    "colab": {
     "base_uri": "https://localhost:8080/",
     "height": 221
    },
    "colab_type": "code",
    "id": "SDSzYPz_IJR3",
    "outputId": "ded45cc5-1b6e-4e1e-ae22-51d1b9e11d33"
   },
   "outputs": [
    {
     "data": {
      "text/plain": [
       "Skye                10\n",
       "Cranbourne North    10\n",
       "Manor Lakes         10\n",
       "Bacchus Marsh        9\n",
       "Docklands            9\n",
       "                    ..\n",
       "Seville              1\n",
       "Castella             1\n",
       "Pentland Hills       1\n",
       "Warneet              1\n",
       "Don Valley           1\n",
       "Name: Suburb, Length: 69, dtype: int64"
      ]
     },
     "execution_count": 20,
     "metadata": {
      "tags": []
     },
     "output_type": "execute_result"
    }
   ],
   "source": [
    "location_stats_less_than_10 = location_stats[location_stats<=10]\n",
    "location_stats_less_than_10\n"
   ]
  },
  {
   "cell_type": "code",
   "execution_count": null,
   "metadata": {
    "colab": {
     "base_uri": "https://localhost:8080/",
     "height": 34
    },
    "colab_type": "code",
    "id": "sINIW1fSJBEX",
    "outputId": "afb2bfc6-c865-4729-e627-63652b9b95f7"
   },
   "outputs": [
    {
     "data": {
      "text/plain": [
       "370"
      ]
     },
     "execution_count": 21,
     "metadata": {
      "tags": []
     },
     "output_type": "execute_result"
    }
   ],
   "source": [
    "len(df3.Suburb.unique())"
   ]
  },
  {
   "cell_type": "code",
   "execution_count": null,
   "metadata": {
    "colab": {
     "base_uri": "https://localhost:8080/",
     "height": 156
    },
    "colab_type": "code",
    "id": "o2eGBwTPJIoT",
    "outputId": "dd8c8f12-2fcd-46ac-e7b4-9459b910f780"
   },
   "outputs": [
    {
     "name": "stderr",
     "output_type": "stream",
     "text": [
      "/usr/local/lib/python3.6/dist-packages/pandas/core/generic.py:5303: SettingWithCopyWarning: \n",
      "A value is trying to be set on a copy of a slice from a DataFrame.\n",
      "Try using .loc[row_indexer,col_indexer] = value instead\n",
      "\n",
      "See the caveats in the documentation: https://pandas.pydata.org/pandas-docs/stable/user_guide/indexing.html#returning-a-view-versus-a-copy\n",
      "  self[name] = value\n"
     ]
    },
    {
     "data": {
      "text/plain": [
       "302"
      ]
     },
     "execution_count": 22,
     "metadata": {
      "tags": []
     },
     "output_type": "execute_result"
    }
   ],
   "source": [
    "\n",
    "df3.Suburb = df3.Suburb.apply(lambda x: 'other' if x in location_stats_less_than_10 else x)\n",
    "len(df3.Suburb.unique())"
   ]
  },
  {
   "cell_type": "code",
   "execution_count": null,
   "metadata": {
    "colab": {
     "base_uri": "https://localhost:8080/",
     "height": 357
    },
    "colab_type": "code",
    "id": "uv6tzCs5JKMd",
    "outputId": "19cab34b-779d-4ae1-ecc4-3da31e2dbe3e"
   },
   "outputs": [
    {
     "data": {
      "text/html": [
       "<div>\n",
       "<style scoped>\n",
       "    .dataframe tbody tr th:only-of-type {\n",
       "        vertical-align: middle;\n",
       "    }\n",
       "\n",
       "    .dataframe tbody tr th {\n",
       "        vertical-align: top;\n",
       "    }\n",
       "\n",
       "    .dataframe thead th {\n",
       "        text-align: right;\n",
       "    }\n",
       "</style>\n",
       "<table border=\"1\" class=\"dataframe\">\n",
       "  <thead>\n",
       "    <tr style=\"text-align: right;\">\n",
       "      <th></th>\n",
       "      <th>Suburb</th>\n",
       "      <th>Rooms</th>\n",
       "      <th>Type</th>\n",
       "      <th>Price</th>\n",
       "    </tr>\n",
       "  </thead>\n",
       "  <tbody>\n",
       "    <tr>\n",
       "      <th>0</th>\n",
       "      <td>Abbotsford</td>\n",
       "      <td>3</td>\n",
       "      <td>h</td>\n",
       "      <td>1490000.0</td>\n",
       "    </tr>\n",
       "    <tr>\n",
       "      <th>1</th>\n",
       "      <td>Abbotsford</td>\n",
       "      <td>3</td>\n",
       "      <td>h</td>\n",
       "      <td>1220000.0</td>\n",
       "    </tr>\n",
       "    <tr>\n",
       "      <th>2</th>\n",
       "      <td>Abbotsford</td>\n",
       "      <td>3</td>\n",
       "      <td>h</td>\n",
       "      <td>1420000.0</td>\n",
       "    </tr>\n",
       "    <tr>\n",
       "      <th>3</th>\n",
       "      <td>Aberfeldie</td>\n",
       "      <td>3</td>\n",
       "      <td>h</td>\n",
       "      <td>1515000.0</td>\n",
       "    </tr>\n",
       "    <tr>\n",
       "      <th>4</th>\n",
       "      <td>Airport West</td>\n",
       "      <td>2</td>\n",
       "      <td>h</td>\n",
       "      <td>670000.0</td>\n",
       "    </tr>\n",
       "    <tr>\n",
       "      <th>5</th>\n",
       "      <td>Airport West</td>\n",
       "      <td>2</td>\n",
       "      <td>t</td>\n",
       "      <td>530000.0</td>\n",
       "    </tr>\n",
       "    <tr>\n",
       "      <th>6</th>\n",
       "      <td>Airport West</td>\n",
       "      <td>2</td>\n",
       "      <td>u</td>\n",
       "      <td>540000.0</td>\n",
       "    </tr>\n",
       "    <tr>\n",
       "      <th>7</th>\n",
       "      <td>Airport West</td>\n",
       "      <td>3</td>\n",
       "      <td>h</td>\n",
       "      <td>715000.0</td>\n",
       "    </tr>\n",
       "    <tr>\n",
       "      <th>9</th>\n",
       "      <td>Albert Park</td>\n",
       "      <td>3</td>\n",
       "      <td>h</td>\n",
       "      <td>1925000.0</td>\n",
       "    </tr>\n",
       "    <tr>\n",
       "      <th>10</th>\n",
       "      <td>Albion</td>\n",
       "      <td>3</td>\n",
       "      <td>u</td>\n",
       "      <td>515000.0</td>\n",
       "    </tr>\n",
       "  </tbody>\n",
       "</table>\n",
       "</div>"
      ],
      "text/plain": [
       "          Suburb  Rooms Type      Price\n",
       "0     Abbotsford      3    h  1490000.0\n",
       "1     Abbotsford      3    h  1220000.0\n",
       "2     Abbotsford      3    h  1420000.0\n",
       "3     Aberfeldie      3    h  1515000.0\n",
       "4   Airport West      2    h   670000.0\n",
       "5   Airport West      2    t   530000.0\n",
       "6   Airport West      2    u   540000.0\n",
       "7   Airport West      3    h   715000.0\n",
       "9    Albert Park      3    h  1925000.0\n",
       "10        Albion      3    u   515000.0"
      ]
     },
     "execution_count": 23,
     "metadata": {
      "tags": []
     },
     "output_type": "execute_result"
    }
   ],
   "source": [
    "df3.head(10)"
   ]
  },
  {
   "cell_type": "markdown",
   "metadata": {
    "colab_type": "text",
    "id": "DjeS09xfJU7p"
   },
   "source": [
    "Outlier Removal Using Business Logic.\n",
    "Normally square ft per bedroom is 300 (i.e. 2 bhk apartment is minimum 600 sqft. If you have for example 400 sqft apartment with 2 bhk than that seems suspicious and can be removed as an outlier. We will remove such outliers by keeping our minimum thresold per bhk to be 300 sqft"
   ]
  },
  {
   "cell_type": "markdown",
   "metadata": {
    "colab_type": "text",
    "id": "jd1NZCqlRRJL"
   },
   "source": [
    "Let's check if for a given location how does the 2 rooms and 3 rooms properties prices look like."
   ]
  },
  {
   "cell_type": "code",
   "execution_count": null,
   "metadata": {
    "colab": {
     "base_uri": "https://localhost:8080/",
     "height": 621
    },
    "colab_type": "code",
    "id": "SfW7-PFlRNdE",
    "outputId": "0ec22e20-1ede-44a9-98b8-01c2c2054dd1"
   },
   "outputs": [
    {
     "data": {
      "image/png": "[encoded data removed]",
      "text/plain": [
       "<Figure size 1080x720 with 1 Axes>"
      ]
     },
     "metadata": {
      "needs_background": "light",
      "tags": []
     },
     "output_type": "display_data"
    }
   ],
   "source": [
    "\n",
    "def plot_scatter_chart(df,suburb):\n",
    "    rm2 = df[(df.Suburb==suburb) & (df.Rooms==2)]\n",
    "    rm3 = df[(df.Suburb==suburb) & (df.Rooms==3)]\n",
    "    matplotlib.rcParams['figure.figsize'] = (15,10)\n",
    "    plt.scatter(rm2.Type,rm2.Price,color='blue',label='2 rooms', s=50)\n",
    "    plt.scatter(rm3.Type,rm3.Price,marker='+', color='green',label='3 rooms', s=50)\n",
    "    plt.xlabel(\"Type of property\")\n",
    "    plt.ylabel(\"Price\")\n",
    "    plt.title(suburb)\n",
    "    plt.legend()\n",
    "    \n",
    "plot_scatter_chart(df3,\"Airport West\")"
   ]
  },
  {
   "cell_type": "markdown",
   "metadata": {
    "colab_type": "text",
    "id": "atktOFyVRk3d"
   },
   "source": [
    "\n",
    "We should also remove properties where for same location, the price of (for example) 3 bedroom apartment is less than 2 bedroom apartment (with same square ft area). What we will do is for a given location, we will build a dictionary of stats per bhk, i.e.\n",
    "\n"
   ]
  },
  {
   "cell_type": "markdown",
   "metadata": {
    "colab_type": "text",
    "id": "u829bvIyR1-g"
   },
   "source": [
    "Now we can remove those 2 room apartments whose price is less than mean price of 1 room apartment\n",
    "\n"
   ]
  },
  {
   "cell_type": "code",
   "execution_count": null,
   "metadata": {
    "colab": {
     "base_uri": "https://localhost:8080/",
     "height": 34
    },
    "colab_type": "code",
    "id": "LW_-DwvORmoY",
    "outputId": "6e3aec57-3f43-42f4-d01c-9ed5bd268578"
   },
   "outputs": [
    {
     "data": {
      "text/plain": [
       "(43383, 4)"
      ]
     },
     "execution_count": 34,
     "metadata": {
      "tags": []
     },
     "output_type": "execute_result"
    }
   ],
   "source": [
    "def remove_room_outliers(df):\n",
    "    exclude_indices = np.array([])\n",
    "    for location, location_df in df.groupby('Suburb'):\n",
    "        room_stats = {}\n",
    "        for room, room_df in location_df.groupby('Rooms'):\n",
    "            room_stats[room] = {\n",
    "                'mean': np.mean(room_df.Price),\n",
    "                'std': np.std(room_df.Price),\n",
    "                'count': room_df.shape[0]\n",
    "            }\n",
    "        for room, room_df in location_df.groupby('Rooms'):\n",
    "            stats = room_stats.get(room-1)\n",
    "            if stats and stats['count']>5:\n",
    "                exclude_indices = np.append(exclude_indices, room_df[room_df.Price<(stats['mean'])].index.values)\n",
    "    return df.drop(exclude_indices,axis='index')\n",
    "df4 = remove_room_outliers(df3)\n",
    "# df4 = df3.copy()\n",
    "df4.shape"
   ]
  },
  {
   "cell_type": "markdown",
   "metadata": {
    "colab_type": "text",
    "id": "276dO55PR61K"
   },
   "source": [
    "Plot same scatter chart again to visualize price_per_sqft for 2 BHK and 3 BHK properties\n",
    "\n"
   ]
  },
  {
   "cell_type": "code",
   "execution_count": null,
   "metadata": {
    "colab": {
     "base_uri": "https://localhost:8080/",
     "height": 621
    },
    "colab_type": "code",
    "id": "6pdSEIwQRwH3",
    "outputId": "cb2fcb74-00e1-4ea5-c436-f05e98c445c7"
   },
   "outputs": [
    {
     "data": {
      "image/png": "[encoded data removed]",
      "text/plain": [
       "<Figure size 1080x720 with 1 Axes>"
      ]
     },
     "metadata": {
      "needs_background": "light",
      "tags": []
     },
     "output_type": "display_data"
    }
   ],
   "source": [
    "plot_scatter_chart(df4,\"Airport West\")\n"
   ]
  },
  {
   "cell_type": "code",
   "execution_count": null,
   "metadata": {
    "colab": {
     "base_uri": "https://localhost:8080/",
     "height": 562
    },
    "colab_type": "code",
    "id": "AwoNTfZyR9qp",
    "outputId": "4f119f1c-32e5-4d60-b8f7-bfa2e014e7a6"
   },
   "outputs": [
    {
     "data": {
      "text/plain": [
       "Text(0, 0.5, 'Count')"
      ]
     },
     "execution_count": 36,
     "metadata": {
      "tags": []
     },
     "output_type": "execute_result"
    },
    {
     "data": {
      "image/png": "[encoded data removed]",
      "text/plain": [
       "<Figure size 1440x720 with 1 Axes>"
      ]
     },
     "metadata": {
      "needs_background": "light",
      "tags": []
     },
     "output_type": "display_data"
    }
   ],
   "source": [
    "import matplotlib\n",
    "matplotlib.rcParams[\"figure.figsize\"] = (20,10)\n",
    "plt.hist(df4.Price,rwidth=0.8)\n",
    "plt.xlabel(\"Price\")\n",
    "plt.ylabel(\"Count\")"
   ]
  },
  {
   "cell_type": "markdown",
   "metadata": {
    "colab_type": "text",
    "id": "pt5zudPwT0vr"
   },
   "source": [
    "\n",
    "Use One Hot Encoding For Location"
   ]
  },
  {
   "cell_type": "code",
   "execution_count": null,
   "metadata": {
    "colab": {
     "base_uri": "https://localhost:8080/",
     "height": 141
    },
    "colab_type": "code",
    "id": "FZ3gFJl7TyIY",
    "outputId": "c0657a07-6bf9-4f83-b286-2a06ae0f168c"
   },
   "outputs": [
    {
     "data": {
      "text/html": [
       "<div>\n",
       "<style scoped>\n",
       "    .dataframe tbody tr th:only-of-type {\n",
       "        vertical-align: middle;\n",
       "    }\n",
       "\n",
       "    .dataframe tbody tr th {\n",
       "        vertical-align: top;\n",
       "    }\n",
       "\n",
       "    .dataframe thead th {\n",
       "        text-align: right;\n",
       "    }\n",
       "</style>\n",
       "<table border=\"1\" class=\"dataframe\">\n",
       "  <thead>\n",
       "    <tr style=\"text-align: right;\">\n",
       "      <th></th>\n",
       "      <th>h</th>\n",
       "      <th>t</th>\n",
       "      <th>u</th>\n",
       "    </tr>\n",
       "  </thead>\n",
       "  <tbody>\n",
       "    <tr>\n",
       "      <th>0</th>\n",
       "      <td>1</td>\n",
       "      <td>0</td>\n",
       "      <td>0</td>\n",
       "    </tr>\n",
       "    <tr>\n",
       "      <th>1</th>\n",
       "      <td>1</td>\n",
       "      <td>0</td>\n",
       "      <td>0</td>\n",
       "    </tr>\n",
       "    <tr>\n",
       "      <th>2</th>\n",
       "      <td>1</td>\n",
       "      <td>0</td>\n",
       "      <td>0</td>\n",
       "    </tr>\n",
       "  </tbody>\n",
       "</table>\n",
       "</div>"
      ],
      "text/plain": [
       "   h  t  u\n",
       "0  1  0  0\n",
       "1  1  0  0\n",
       "2  1  0  0"
      ]
     },
     "execution_count": 46,
     "metadata": {
      "tags": []
     },
     "output_type": "execute_result"
    }
   ],
   "source": [
    "\n",
    "dummies = pd.get_dummies(df4.Suburb)\n",
    "dummies.head(3)\n",
    "\n",
    "dummies2 = pd.get_dummies(df4.Type)\n",
    "dummies2.head(3)"
   ]
  },
  {
   "cell_type": "code",
   "execution_count": null,
   "metadata": {
    "colab": {
     "base_uri": "https://localhost:8080/",
     "height": 286
    },
    "colab_type": "code",
    "id": "cF4qypfIT3Lv",
    "outputId": "a830b62e-d6ea-4fc9-d7c7-99cdeba5fc21"
   },
   "outputs": [
    {
     "data": {
      "text/html": [
       "<div>\n",
       "<style scoped>\n",
       "    .dataframe tbody tr th:only-of-type {\n",
       "        vertical-align: middle;\n",
       "    }\n",
       "\n",
       "    .dataframe tbody tr th {\n",
       "        vertical-align: top;\n",
       "    }\n",
       "\n",
       "    .dataframe thead th {\n",
       "        text-align: right;\n",
       "    }\n",
       "</style>\n",
       "<table border=\"1\" class=\"dataframe\">\n",
       "  <thead>\n",
       "    <tr style=\"text-align: right;\">\n",
       "      <th></th>\n",
       "      <th>Suburb</th>\n",
       "      <th>Rooms</th>\n",
       "      <th>Type</th>\n",
       "      <th>Price</th>\n",
       "      <th>Abbotsford</th>\n",
       "      <th>Aberfeldie</th>\n",
       "      <th>Airport West</th>\n",
       "      <th>Albanvale</th>\n",
       "      <th>Albert Park</th>\n",
       "      <th>Albion</th>\n",
       "      <th>Alphington</th>\n",
       "      <th>Altona</th>\n",
       "      <th>Altona Meadows</th>\n",
       "      <th>Altona North</th>\n",
       "      <th>Ardeer</th>\n",
       "      <th>Armadale</th>\n",
       "      <th>Ascot Vale</th>\n",
       "      <th>Ashburton</th>\n",
       "      <th>Ashwood</th>\n",
       "      <th>Aspendale</th>\n",
       "      <th>Aspendale Gardens</th>\n",
       "      <th>Attwood</th>\n",
       "      <th>Avondale Heights</th>\n",
       "      <th>Balaclava</th>\n",
       "      <th>Balwyn</th>\n",
       "      <th>Balwyn North</th>\n",
       "      <th>Bayswater</th>\n",
       "      <th>Bayswater North</th>\n",
       "      <th>Beaumaris</th>\n",
       "      <th>Bellfield</th>\n",
       "      <th>Bentleigh</th>\n",
       "      <th>Bentleigh East</th>\n",
       "      <th>Berwick</th>\n",
       "      <th>Black Rock</th>\n",
       "      <th>Blackburn</th>\n",
       "      <th>Blackburn North</th>\n",
       "      <th>Blackburn South</th>\n",
       "      <th>Bonbeach</th>\n",
       "      <th>Boronia</th>\n",
       "      <th>Box Hill</th>\n",
       "      <th>...</th>\n",
       "      <th>Sydenham</th>\n",
       "      <th>Tarneit</th>\n",
       "      <th>Taylors Hill</th>\n",
       "      <th>Taylors Lakes</th>\n",
       "      <th>Templestowe</th>\n",
       "      <th>Templestowe Lower</th>\n",
       "      <th>The Basin</th>\n",
       "      <th>Thomastown</th>\n",
       "      <th>Thornbury</th>\n",
       "      <th>Toorak</th>\n",
       "      <th>Travancore</th>\n",
       "      <th>Truganina</th>\n",
       "      <th>Tullamarine</th>\n",
       "      <th>Vermont</th>\n",
       "      <th>Vermont South</th>\n",
       "      <th>Viewbank</th>\n",
       "      <th>Wallan</th>\n",
       "      <th>Wantirna</th>\n",
       "      <th>Wantirna South</th>\n",
       "      <th>Warrandyte</th>\n",
       "      <th>Warranwood</th>\n",
       "      <th>Waterways</th>\n",
       "      <th>Watsonia</th>\n",
       "      <th>Watsonia North</th>\n",
       "      <th>Werribee</th>\n",
       "      <th>West Footscray</th>\n",
       "      <th>West Melbourne</th>\n",
       "      <th>Westmeadows</th>\n",
       "      <th>Wheelers Hill</th>\n",
       "      <th>Williams Landing</th>\n",
       "      <th>Williamstown</th>\n",
       "      <th>Williamstown North</th>\n",
       "      <th>Windsor</th>\n",
       "      <th>Wollert</th>\n",
       "      <th>Wyndham Vale</th>\n",
       "      <th>Yallambie</th>\n",
       "      <th>Yarraville</th>\n",
       "      <th>h</th>\n",
       "      <th>t</th>\n",
       "      <th>u</th>\n",
       "    </tr>\n",
       "  </thead>\n",
       "  <tbody>\n",
       "    <tr>\n",
       "      <th>0</th>\n",
       "      <td>Abbotsford</td>\n",
       "      <td>3</td>\n",
       "      <td>h</td>\n",
       "      <td>1490000.0</td>\n",
       "      <td>1</td>\n",
       "      <td>0</td>\n",
       "      <td>0</td>\n",
       "      <td>0</td>\n",
       "      <td>0</td>\n",
       "      <td>0</td>\n",
       "      <td>0</td>\n",
       "      <td>0</td>\n",
       "      <td>0</td>\n",
       "      <td>0</td>\n",
       "      <td>0</td>\n",
       "      <td>0</td>\n",
       "      <td>0</td>\n",
       "      <td>0</td>\n",
       "      <td>0</td>\n",
       "      <td>0</td>\n",
       "      <td>0</td>\n",
       "      <td>0</td>\n",
       "      <td>0</td>\n",
       "      <td>0</td>\n",
       "      <td>0</td>\n",
       "      <td>0</td>\n",
       "      <td>0</td>\n",
       "      <td>0</td>\n",
       "      <td>0</td>\n",
       "      <td>0</td>\n",
       "      <td>0</td>\n",
       "      <td>0</td>\n",
       "      <td>0</td>\n",
       "      <td>0</td>\n",
       "      <td>0</td>\n",
       "      <td>0</td>\n",
       "      <td>0</td>\n",
       "      <td>0</td>\n",
       "      <td>0</td>\n",
       "      <td>0</td>\n",
       "      <td>...</td>\n",
       "      <td>0</td>\n",
       "      <td>0</td>\n",
       "      <td>0</td>\n",
       "      <td>0</td>\n",
       "      <td>0</td>\n",
       "      <td>0</td>\n",
       "      <td>0</td>\n",
       "      <td>0</td>\n",
       "      <td>0</td>\n",
       "      <td>0</td>\n",
       "      <td>0</td>\n",
       "      <td>0</td>\n",
       "      <td>0</td>\n",
       "      <td>0</td>\n",
       "      <td>0</td>\n",
       "      <td>0</td>\n",
       "      <td>0</td>\n",
       "      <td>0</td>\n",
       "      <td>0</td>\n",
       "      <td>0</td>\n",
       "      <td>0</td>\n",
       "      <td>0</td>\n",
       "      <td>0</td>\n",
       "      <td>0</td>\n",
       "      <td>0</td>\n",
       "      <td>0</td>\n",
       "      <td>0</td>\n",
       "      <td>0</td>\n",
       "      <td>0</td>\n",
       "      <td>0</td>\n",
       "      <td>0</td>\n",
       "      <td>0</td>\n",
       "      <td>0</td>\n",
       "      <td>0</td>\n",
       "      <td>0</td>\n",
       "      <td>0</td>\n",
       "      <td>0</td>\n",
       "      <td>1</td>\n",
       "      <td>0</td>\n",
       "      <td>0</td>\n",
       "    </tr>\n",
       "    <tr>\n",
       "      <th>1</th>\n",
       "      <td>Abbotsford</td>\n",
       "      <td>3</td>\n",
       "      <td>h</td>\n",
       "      <td>1220000.0</td>\n",
       "      <td>1</td>\n",
       "      <td>0</td>\n",
       "      <td>0</td>\n",
       "      <td>0</td>\n",
       "      <td>0</td>\n",
       "      <td>0</td>\n",
       "      <td>0</td>\n",
       "      <td>0</td>\n",
       "      <td>0</td>\n",
       "      <td>0</td>\n",
       "      <td>0</td>\n",
       "      <td>0</td>\n",
       "      <td>0</td>\n",
       "      <td>0</td>\n",
       "      <td>0</td>\n",
       "      <td>0</td>\n",
       "      <td>0</td>\n",
       "      <td>0</td>\n",
       "      <td>0</td>\n",
       "      <td>0</td>\n",
       "      <td>0</td>\n",
       "      <td>0</td>\n",
       "      <td>0</td>\n",
       "      <td>0</td>\n",
       "      <td>0</td>\n",
       "      <td>0</td>\n",
       "      <td>0</td>\n",
       "      <td>0</td>\n",
       "      <td>0</td>\n",
       "      <td>0</td>\n",
       "      <td>0</td>\n",
       "      <td>0</td>\n",
       "      <td>0</td>\n",
       "      <td>0</td>\n",
       "      <td>0</td>\n",
       "      <td>0</td>\n",
       "      <td>...</td>\n",
       "      <td>0</td>\n",
       "      <td>0</td>\n",
       "      <td>0</td>\n",
       "      <td>0</td>\n",
       "      <td>0</td>\n",
       "      <td>0</td>\n",
       "      <td>0</td>\n",
       "      <td>0</td>\n",
       "      <td>0</td>\n",
       "      <td>0</td>\n",
       "      <td>0</td>\n",
       "      <td>0</td>\n",
       "      <td>0</td>\n",
       "      <td>0</td>\n",
       "      <td>0</td>\n",
       "      <td>0</td>\n",
       "      <td>0</td>\n",
       "      <td>0</td>\n",
       "      <td>0</td>\n",
       "      <td>0</td>\n",
       "      <td>0</td>\n",
       "      <td>0</td>\n",
       "      <td>0</td>\n",
       "      <td>0</td>\n",
       "      <td>0</td>\n",
       "      <td>0</td>\n",
       "      <td>0</td>\n",
       "      <td>0</td>\n",
       "      <td>0</td>\n",
       "      <td>0</td>\n",
       "      <td>0</td>\n",
       "      <td>0</td>\n",
       "      <td>0</td>\n",
       "      <td>0</td>\n",
       "      <td>0</td>\n",
       "      <td>0</td>\n",
       "      <td>0</td>\n",
       "      <td>1</td>\n",
       "      <td>0</td>\n",
       "      <td>0</td>\n",
       "    </tr>\n",
       "    <tr>\n",
       "      <th>2</th>\n",
       "      <td>Abbotsford</td>\n",
       "      <td>3</td>\n",
       "      <td>h</td>\n",
       "      <td>1420000.0</td>\n",
       "      <td>1</td>\n",
       "      <td>0</td>\n",
       "      <td>0</td>\n",
       "      <td>0</td>\n",
       "      <td>0</td>\n",
       "      <td>0</td>\n",
       "      <td>0</td>\n",
       "      <td>0</td>\n",
       "      <td>0</td>\n",
       "      <td>0</td>\n",
       "      <td>0</td>\n",
       "      <td>0</td>\n",
       "      <td>0</td>\n",
       "      <td>0</td>\n",
       "      <td>0</td>\n",
       "      <td>0</td>\n",
       "      <td>0</td>\n",
       "      <td>0</td>\n",
       "      <td>0</td>\n",
       "      <td>0</td>\n",
       "      <td>0</td>\n",
       "      <td>0</td>\n",
       "      <td>0</td>\n",
       "      <td>0</td>\n",
       "      <td>0</td>\n",
       "      <td>0</td>\n",
       "      <td>0</td>\n",
       "      <td>0</td>\n",
       "      <td>0</td>\n",
       "      <td>0</td>\n",
       "      <td>0</td>\n",
       "      <td>0</td>\n",
       "      <td>0</td>\n",
       "      <td>0</td>\n",
       "      <td>0</td>\n",
       "      <td>0</td>\n",
       "      <td>...</td>\n",
       "      <td>0</td>\n",
       "      <td>0</td>\n",
       "      <td>0</td>\n",
       "      <td>0</td>\n",
       "      <td>0</td>\n",
       "      <td>0</td>\n",
       "      <td>0</td>\n",
       "      <td>0</td>\n",
       "      <td>0</td>\n",
       "      <td>0</td>\n",
       "      <td>0</td>\n",
       "      <td>0</td>\n",
       "      <td>0</td>\n",
       "      <td>0</td>\n",
       "      <td>0</td>\n",
       "      <td>0</td>\n",
       "      <td>0</td>\n",
       "      <td>0</td>\n",
       "      <td>0</td>\n",
       "      <td>0</td>\n",
       "      <td>0</td>\n",
       "      <td>0</td>\n",
       "      <td>0</td>\n",
       "      <td>0</td>\n",
       "      <td>0</td>\n",
       "      <td>0</td>\n",
       "      <td>0</td>\n",
       "      <td>0</td>\n",
       "      <td>0</td>\n",
       "      <td>0</td>\n",
       "      <td>0</td>\n",
       "      <td>0</td>\n",
       "      <td>0</td>\n",
       "      <td>0</td>\n",
       "      <td>0</td>\n",
       "      <td>0</td>\n",
       "      <td>0</td>\n",
       "      <td>1</td>\n",
       "      <td>0</td>\n",
       "      <td>0</td>\n",
       "    </tr>\n",
       "    <tr>\n",
       "      <th>3</th>\n",
       "      <td>Aberfeldie</td>\n",
       "      <td>3</td>\n",
       "      <td>h</td>\n",
       "      <td>1515000.0</td>\n",
       "      <td>0</td>\n",
       "      <td>1</td>\n",
       "      <td>0</td>\n",
       "      <td>0</td>\n",
       "      <td>0</td>\n",
       "      <td>0</td>\n",
       "      <td>0</td>\n",
       "      <td>0</td>\n",
       "      <td>0</td>\n",
       "      <td>0</td>\n",
       "      <td>0</td>\n",
       "      <td>0</td>\n",
       "      <td>0</td>\n",
       "      <td>0</td>\n",
       "      <td>0</td>\n",
       "      <td>0</td>\n",
       "      <td>0</td>\n",
       "      <td>0</td>\n",
       "      <td>0</td>\n",
       "      <td>0</td>\n",
       "      <td>0</td>\n",
       "      <td>0</td>\n",
       "      <td>0</td>\n",
       "      <td>0</td>\n",
       "      <td>0</td>\n",
       "      <td>0</td>\n",
       "      <td>0</td>\n",
       "      <td>0</td>\n",
       "      <td>0</td>\n",
       "      <td>0</td>\n",
       "      <td>0</td>\n",
       "      <td>0</td>\n",
       "      <td>0</td>\n",
       "      <td>0</td>\n",
       "      <td>0</td>\n",
       "      <td>0</td>\n",
       "      <td>...</td>\n",
       "      <td>0</td>\n",
       "      <td>0</td>\n",
       "      <td>0</td>\n",
       "      <td>0</td>\n",
       "      <td>0</td>\n",
       "      <td>0</td>\n",
       "      <td>0</td>\n",
       "      <td>0</td>\n",
       "      <td>0</td>\n",
       "      <td>0</td>\n",
       "      <td>0</td>\n",
       "      <td>0</td>\n",
       "      <td>0</td>\n",
       "      <td>0</td>\n",
       "      <td>0</td>\n",
       "      <td>0</td>\n",
       "      <td>0</td>\n",
       "      <td>0</td>\n",
       "      <td>0</td>\n",
       "      <td>0</td>\n",
       "      <td>0</td>\n",
       "      <td>0</td>\n",
       "      <td>0</td>\n",
       "      <td>0</td>\n",
       "      <td>0</td>\n",
       "      <td>0</td>\n",
       "      <td>0</td>\n",
       "      <td>0</td>\n",
       "      <td>0</td>\n",
       "      <td>0</td>\n",
       "      <td>0</td>\n",
       "      <td>0</td>\n",
       "      <td>0</td>\n",
       "      <td>0</td>\n",
       "      <td>0</td>\n",
       "      <td>0</td>\n",
       "      <td>0</td>\n",
       "      <td>1</td>\n",
       "      <td>0</td>\n",
       "      <td>0</td>\n",
       "    </tr>\n",
       "    <tr>\n",
       "      <th>4</th>\n",
       "      <td>Airport West</td>\n",
       "      <td>2</td>\n",
       "      <td>h</td>\n",
       "      <td>670000.0</td>\n",
       "      <td>0</td>\n",
       "      <td>0</td>\n",
       "      <td>1</td>\n",
       "      <td>0</td>\n",
       "      <td>0</td>\n",
       "      <td>0</td>\n",
       "      <td>0</td>\n",
       "      <td>0</td>\n",
       "      <td>0</td>\n",
       "      <td>0</td>\n",
       "      <td>0</td>\n",
       "      <td>0</td>\n",
       "      <td>0</td>\n",
       "      <td>0</td>\n",
       "      <td>0</td>\n",
       "      <td>0</td>\n",
       "      <td>0</td>\n",
       "      <td>0</td>\n",
       "      <td>0</td>\n",
       "      <td>0</td>\n",
       "      <td>0</td>\n",
       "      <td>0</td>\n",
       "      <td>0</td>\n",
       "      <td>0</td>\n",
       "      <td>0</td>\n",
       "      <td>0</td>\n",
       "      <td>0</td>\n",
       "      <td>0</td>\n",
       "      <td>0</td>\n",
       "      <td>0</td>\n",
       "      <td>0</td>\n",
       "      <td>0</td>\n",
       "      <td>0</td>\n",
       "      <td>0</td>\n",
       "      <td>0</td>\n",
       "      <td>0</td>\n",
       "      <td>...</td>\n",
       "      <td>0</td>\n",
       "      <td>0</td>\n",
       "      <td>0</td>\n",
       "      <td>0</td>\n",
       "      <td>0</td>\n",
       "      <td>0</td>\n",
       "      <td>0</td>\n",
       "      <td>0</td>\n",
       "      <td>0</td>\n",
       "      <td>0</td>\n",
       "      <td>0</td>\n",
       "      <td>0</td>\n",
       "      <td>0</td>\n",
       "      <td>0</td>\n",
       "      <td>0</td>\n",
       "      <td>0</td>\n",
       "      <td>0</td>\n",
       "      <td>0</td>\n",
       "      <td>0</td>\n",
       "      <td>0</td>\n",
       "      <td>0</td>\n",
       "      <td>0</td>\n",
       "      <td>0</td>\n",
       "      <td>0</td>\n",
       "      <td>0</td>\n",
       "      <td>0</td>\n",
       "      <td>0</td>\n",
       "      <td>0</td>\n",
       "      <td>0</td>\n",
       "      <td>0</td>\n",
       "      <td>0</td>\n",
       "      <td>0</td>\n",
       "      <td>0</td>\n",
       "      <td>0</td>\n",
       "      <td>0</td>\n",
       "      <td>0</td>\n",
       "      <td>0</td>\n",
       "      <td>1</td>\n",
       "      <td>0</td>\n",
       "      <td>0</td>\n",
       "    </tr>\n",
       "  </tbody>\n",
       "</table>\n",
       "<p>5 rows × 308 columns</p>\n",
       "</div>"
      ],
      "text/plain": [
       "         Suburb  Rooms Type      Price  ...  Yarraville  h  t  u\n",
       "0    Abbotsford      3    h  1490000.0  ...           0  1  0  0\n",
       "1    Abbotsford      3    h  1220000.0  ...           0  1  0  0\n",
       "2    Abbotsford      3    h  1420000.0  ...           0  1  0  0\n",
       "3    Aberfeldie      3    h  1515000.0  ...           0  1  0  0\n",
       "4  Airport West      2    h   670000.0  ...           0  1  0  0\n",
       "\n",
       "[5 rows x 308 columns]"
      ]
     },
     "execution_count": 47,
     "metadata": {
      "tags": []
     },
     "output_type": "execute_result"
    }
   ],
   "source": [
    "df5 = pd.concat([df4,dummies.drop('other',axis='columns'),dummies2],axis='columns')\n",
    "df5.head()\n"
   ]
  },
  {
   "cell_type": "code",
   "execution_count": null,
   "metadata": {
    "colab": {
     "base_uri": "https://localhost:8080/",
     "height": 177
    },
    "colab_type": "code",
    "id": "u5rvNjzxT41J",
    "outputId": "bf7740fe-067a-44fc-9576-ff72133c903b"
   },
   "outputs": [
    {
     "data": {
      "text/html": [
       "<div>\n",
       "<style scoped>\n",
       "    .dataframe tbody tr th:only-of-type {\n",
       "        vertical-align: middle;\n",
       "    }\n",
       "\n",
       "    .dataframe tbody tr th {\n",
       "        vertical-align: top;\n",
       "    }\n",
       "\n",
       "    .dataframe thead th {\n",
       "        text-align: right;\n",
       "    }\n",
       "</style>\n",
       "<table border=\"1\" class=\"dataframe\">\n",
       "  <thead>\n",
       "    <tr style=\"text-align: right;\">\n",
       "      <th></th>\n",
       "      <th>Rooms</th>\n",
       "      <th>Price</th>\n",
       "      <th>Abbotsford</th>\n",
       "      <th>Aberfeldie</th>\n",
       "      <th>Airport West</th>\n",
       "      <th>Albanvale</th>\n",
       "      <th>Albert Park</th>\n",
       "      <th>Albion</th>\n",
       "      <th>Alphington</th>\n",
       "      <th>Altona</th>\n",
       "      <th>Altona Meadows</th>\n",
       "      <th>Altona North</th>\n",
       "      <th>Ardeer</th>\n",
       "      <th>Armadale</th>\n",
       "      <th>Ascot Vale</th>\n",
       "      <th>Ashburton</th>\n",
       "      <th>Ashwood</th>\n",
       "      <th>Aspendale</th>\n",
       "      <th>Aspendale Gardens</th>\n",
       "      <th>Attwood</th>\n",
       "      <th>Avondale Heights</th>\n",
       "      <th>Balaclava</th>\n",
       "      <th>Balwyn</th>\n",
       "      <th>Balwyn North</th>\n",
       "      <th>Bayswater</th>\n",
       "      <th>Bayswater North</th>\n",
       "      <th>Beaumaris</th>\n",
       "      <th>Bellfield</th>\n",
       "      <th>Bentleigh</th>\n",
       "      <th>Bentleigh East</th>\n",
       "      <th>Berwick</th>\n",
       "      <th>Black Rock</th>\n",
       "      <th>Blackburn</th>\n",
       "      <th>Blackburn North</th>\n",
       "      <th>Blackburn South</th>\n",
       "      <th>Bonbeach</th>\n",
       "      <th>Boronia</th>\n",
       "      <th>Box Hill</th>\n",
       "      <th>Braybrook</th>\n",
       "      <th>Briar Hill</th>\n",
       "      <th>...</th>\n",
       "      <th>Sydenham</th>\n",
       "      <th>Tarneit</th>\n",
       "      <th>Taylors Hill</th>\n",
       "      <th>Taylors Lakes</th>\n",
       "      <th>Templestowe</th>\n",
       "      <th>Templestowe Lower</th>\n",
       "      <th>The Basin</th>\n",
       "      <th>Thomastown</th>\n",
       "      <th>Thornbury</th>\n",
       "      <th>Toorak</th>\n",
       "      <th>Travancore</th>\n",
       "      <th>Truganina</th>\n",
       "      <th>Tullamarine</th>\n",
       "      <th>Vermont</th>\n",
       "      <th>Vermont South</th>\n",
       "      <th>Viewbank</th>\n",
       "      <th>Wallan</th>\n",
       "      <th>Wantirna</th>\n",
       "      <th>Wantirna South</th>\n",
       "      <th>Warrandyte</th>\n",
       "      <th>Warranwood</th>\n",
       "      <th>Waterways</th>\n",
       "      <th>Watsonia</th>\n",
       "      <th>Watsonia North</th>\n",
       "      <th>Werribee</th>\n",
       "      <th>West Footscray</th>\n",
       "      <th>West Melbourne</th>\n",
       "      <th>Westmeadows</th>\n",
       "      <th>Wheelers Hill</th>\n",
       "      <th>Williams Landing</th>\n",
       "      <th>Williamstown</th>\n",
       "      <th>Williamstown North</th>\n",
       "      <th>Windsor</th>\n",
       "      <th>Wollert</th>\n",
       "      <th>Wyndham Vale</th>\n",
       "      <th>Yallambie</th>\n",
       "      <th>Yarraville</th>\n",
       "      <th>h</th>\n",
       "      <th>t</th>\n",
       "      <th>u</th>\n",
       "    </tr>\n",
       "  </thead>\n",
       "  <tbody>\n",
       "    <tr>\n",
       "      <th>0</th>\n",
       "      <td>3</td>\n",
       "      <td>1490000.0</td>\n",
       "      <td>1</td>\n",
       "      <td>0</td>\n",
       "      <td>0</td>\n",
       "      <td>0</td>\n",
       "      <td>0</td>\n",
       "      <td>0</td>\n",
       "      <td>0</td>\n",
       "      <td>0</td>\n",
       "      <td>0</td>\n",
       "      <td>0</td>\n",
       "      <td>0</td>\n",
       "      <td>0</td>\n",
       "      <td>0</td>\n",
       "      <td>0</td>\n",
       "      <td>0</td>\n",
       "      <td>0</td>\n",
       "      <td>0</td>\n",
       "      <td>0</td>\n",
       "      <td>0</td>\n",
       "      <td>0</td>\n",
       "      <td>0</td>\n",
       "      <td>0</td>\n",
       "      <td>0</td>\n",
       "      <td>0</td>\n",
       "      <td>0</td>\n",
       "      <td>0</td>\n",
       "      <td>0</td>\n",
       "      <td>0</td>\n",
       "      <td>0</td>\n",
       "      <td>0</td>\n",
       "      <td>0</td>\n",
       "      <td>0</td>\n",
       "      <td>0</td>\n",
       "      <td>0</td>\n",
       "      <td>0</td>\n",
       "      <td>0</td>\n",
       "      <td>0</td>\n",
       "      <td>0</td>\n",
       "      <td>...</td>\n",
       "      <td>0</td>\n",
       "      <td>0</td>\n",
       "      <td>0</td>\n",
       "      <td>0</td>\n",
       "      <td>0</td>\n",
       "      <td>0</td>\n",
       "      <td>0</td>\n",
       "      <td>0</td>\n",
       "      <td>0</td>\n",
       "      <td>0</td>\n",
       "      <td>0</td>\n",
       "      <td>0</td>\n",
       "      <td>0</td>\n",
       "      <td>0</td>\n",
       "      <td>0</td>\n",
       "      <td>0</td>\n",
       "      <td>0</td>\n",
       "      <td>0</td>\n",
       "      <td>0</td>\n",
       "      <td>0</td>\n",
       "      <td>0</td>\n",
       "      <td>0</td>\n",
       "      <td>0</td>\n",
       "      <td>0</td>\n",
       "      <td>0</td>\n",
       "      <td>0</td>\n",
       "      <td>0</td>\n",
       "      <td>0</td>\n",
       "      <td>0</td>\n",
       "      <td>0</td>\n",
       "      <td>0</td>\n",
       "      <td>0</td>\n",
       "      <td>0</td>\n",
       "      <td>0</td>\n",
       "      <td>0</td>\n",
       "      <td>0</td>\n",
       "      <td>0</td>\n",
       "      <td>1</td>\n",
       "      <td>0</td>\n",
       "      <td>0</td>\n",
       "    </tr>\n",
       "    <tr>\n",
       "      <th>1</th>\n",
       "      <td>3</td>\n",
       "      <td>1220000.0</td>\n",
       "      <td>1</td>\n",
       "      <td>0</td>\n",
       "      <td>0</td>\n",
       "      <td>0</td>\n",
       "      <td>0</td>\n",
       "      <td>0</td>\n",
       "      <td>0</td>\n",
       "      <td>0</td>\n",
       "      <td>0</td>\n",
       "      <td>0</td>\n",
       "      <td>0</td>\n",
       "      <td>0</td>\n",
       "      <td>0</td>\n",
       "      <td>0</td>\n",
       "      <td>0</td>\n",
       "      <td>0</td>\n",
       "      <td>0</td>\n",
       "      <td>0</td>\n",
       "      <td>0</td>\n",
       "      <td>0</td>\n",
       "      <td>0</td>\n",
       "      <td>0</td>\n",
       "      <td>0</td>\n",
       "      <td>0</td>\n",
       "      <td>0</td>\n",
       "      <td>0</td>\n",
       "      <td>0</td>\n",
       "      <td>0</td>\n",
       "      <td>0</td>\n",
       "      <td>0</td>\n",
       "      <td>0</td>\n",
       "      <td>0</td>\n",
       "      <td>0</td>\n",
       "      <td>0</td>\n",
       "      <td>0</td>\n",
       "      <td>0</td>\n",
       "      <td>0</td>\n",
       "      <td>0</td>\n",
       "      <td>...</td>\n",
       "      <td>0</td>\n",
       "      <td>0</td>\n",
       "      <td>0</td>\n",
       "      <td>0</td>\n",
       "      <td>0</td>\n",
       "      <td>0</td>\n",
       "      <td>0</td>\n",
       "      <td>0</td>\n",
       "      <td>0</td>\n",
       "      <td>0</td>\n",
       "      <td>0</td>\n",
       "      <td>0</td>\n",
       "      <td>0</td>\n",
       "      <td>0</td>\n",
       "      <td>0</td>\n",
       "      <td>0</td>\n",
       "      <td>0</td>\n",
       "      <td>0</td>\n",
       "      <td>0</td>\n",
       "      <td>0</td>\n",
       "      <td>0</td>\n",
       "      <td>0</td>\n",
       "      <td>0</td>\n",
       "      <td>0</td>\n",
       "      <td>0</td>\n",
       "      <td>0</td>\n",
       "      <td>0</td>\n",
       "      <td>0</td>\n",
       "      <td>0</td>\n",
       "      <td>0</td>\n",
       "      <td>0</td>\n",
       "      <td>0</td>\n",
       "      <td>0</td>\n",
       "      <td>0</td>\n",
       "      <td>0</td>\n",
       "      <td>0</td>\n",
       "      <td>0</td>\n",
       "      <td>1</td>\n",
       "      <td>0</td>\n",
       "      <td>0</td>\n",
       "    </tr>\n",
       "  </tbody>\n",
       "</table>\n",
       "<p>2 rows × 306 columns</p>\n",
       "</div>"
      ],
      "text/plain": [
       "   Rooms      Price  Abbotsford  Aberfeldie  ...  Yarraville  h  t  u\n",
       "0      3  1490000.0           1           0  ...           0  1  0  0\n",
       "1      3  1220000.0           1           0  ...           0  1  0  0\n",
       "\n",
       "[2 rows x 306 columns]"
      ]
     },
     "execution_count": 49,
     "metadata": {
      "tags": []
     },
     "output_type": "execute_result"
    }
   ],
   "source": [
    "df6 = df5.drop(['Suburb','Type'],axis='columns')\n",
    "df6.head(2)\n"
   ]
  },
  {
   "cell_type": "code",
   "execution_count": null,
   "metadata": {
    "colab": {
     "base_uri": "https://localhost:8080/",
     "height": 34
    },
    "colab_type": "code",
    "id": "o5lFK_NaT60f",
    "outputId": "10057277-00f1-4e83-fba4-82ddbbe34601"
   },
   "outputs": [
    {
     "data": {
      "text/plain": [
       "(43383, 306)"
      ]
     },
     "execution_count": 50,
     "metadata": {
      "tags": []
     },
     "output_type": "execute_result"
    }
   ],
   "source": [
    "df6.shape"
   ]
  },
  {
   "cell_type": "code",
   "execution_count": null,
   "metadata": {
    "colab": {
     "base_uri": "https://localhost:8080/",
     "height": 207
    },
    "colab_type": "code",
    "id": "jrini-7OT-Q-",
    "outputId": "8cf28460-1435-4916-b6cf-d77b58503bc7"
   },
   "outputs": [
    {
     "data": {
      "text/html": [
       "<div>\n",
       "<style scoped>\n",
       "    .dataframe tbody tr th:only-of-type {\n",
       "        vertical-align: middle;\n",
       "    }\n",
       "\n",
       "    .dataframe tbody tr th {\n",
       "        vertical-align: top;\n",
       "    }\n",
       "\n",
       "    .dataframe thead th {\n",
       "        text-align: right;\n",
       "    }\n",
       "</style>\n",
       "<table border=\"1\" class=\"dataframe\">\n",
       "  <thead>\n",
       "    <tr style=\"text-align: right;\">\n",
       "      <th></th>\n",
       "      <th>Rooms</th>\n",
       "      <th>Abbotsford</th>\n",
       "      <th>Aberfeldie</th>\n",
       "      <th>Airport West</th>\n",
       "      <th>Albanvale</th>\n",
       "      <th>Albert Park</th>\n",
       "      <th>Albion</th>\n",
       "      <th>Alphington</th>\n",
       "      <th>Altona</th>\n",
       "      <th>Altona Meadows</th>\n",
       "      <th>Altona North</th>\n",
       "      <th>Ardeer</th>\n",
       "      <th>Armadale</th>\n",
       "      <th>Ascot Vale</th>\n",
       "      <th>Ashburton</th>\n",
       "      <th>Ashwood</th>\n",
       "      <th>Aspendale</th>\n",
       "      <th>Aspendale Gardens</th>\n",
       "      <th>Attwood</th>\n",
       "      <th>Avondale Heights</th>\n",
       "      <th>Balaclava</th>\n",
       "      <th>Balwyn</th>\n",
       "      <th>Balwyn North</th>\n",
       "      <th>Bayswater</th>\n",
       "      <th>Bayswater North</th>\n",
       "      <th>Beaumaris</th>\n",
       "      <th>Bellfield</th>\n",
       "      <th>Bentleigh</th>\n",
       "      <th>Bentleigh East</th>\n",
       "      <th>Berwick</th>\n",
       "      <th>Black Rock</th>\n",
       "      <th>Blackburn</th>\n",
       "      <th>Blackburn North</th>\n",
       "      <th>Blackburn South</th>\n",
       "      <th>Bonbeach</th>\n",
       "      <th>Boronia</th>\n",
       "      <th>Box Hill</th>\n",
       "      <th>Braybrook</th>\n",
       "      <th>Briar Hill</th>\n",
       "      <th>Brighton</th>\n",
       "      <th>...</th>\n",
       "      <th>Sydenham</th>\n",
       "      <th>Tarneit</th>\n",
       "      <th>Taylors Hill</th>\n",
       "      <th>Taylors Lakes</th>\n",
       "      <th>Templestowe</th>\n",
       "      <th>Templestowe Lower</th>\n",
       "      <th>The Basin</th>\n",
       "      <th>Thomastown</th>\n",
       "      <th>Thornbury</th>\n",
       "      <th>Toorak</th>\n",
       "      <th>Travancore</th>\n",
       "      <th>Truganina</th>\n",
       "      <th>Tullamarine</th>\n",
       "      <th>Vermont</th>\n",
       "      <th>Vermont South</th>\n",
       "      <th>Viewbank</th>\n",
       "      <th>Wallan</th>\n",
       "      <th>Wantirna</th>\n",
       "      <th>Wantirna South</th>\n",
       "      <th>Warrandyte</th>\n",
       "      <th>Warranwood</th>\n",
       "      <th>Waterways</th>\n",
       "      <th>Watsonia</th>\n",
       "      <th>Watsonia North</th>\n",
       "      <th>Werribee</th>\n",
       "      <th>West Footscray</th>\n",
       "      <th>West Melbourne</th>\n",
       "      <th>Westmeadows</th>\n",
       "      <th>Wheelers Hill</th>\n",
       "      <th>Williams Landing</th>\n",
       "      <th>Williamstown</th>\n",
       "      <th>Williamstown North</th>\n",
       "      <th>Windsor</th>\n",
       "      <th>Wollert</th>\n",
       "      <th>Wyndham Vale</th>\n",
       "      <th>Yallambie</th>\n",
       "      <th>Yarraville</th>\n",
       "      <th>h</th>\n",
       "      <th>t</th>\n",
       "      <th>u</th>\n",
       "    </tr>\n",
       "  </thead>\n",
       "  <tbody>\n",
       "    <tr>\n",
       "      <th>0</th>\n",
       "      <td>3</td>\n",
       "      <td>1</td>\n",
       "      <td>0</td>\n",
       "      <td>0</td>\n",
       "      <td>0</td>\n",
       "      <td>0</td>\n",
       "      <td>0</td>\n",
       "      <td>0</td>\n",
       "      <td>0</td>\n",
       "      <td>0</td>\n",
       "      <td>0</td>\n",
       "      <td>0</td>\n",
       "      <td>0</td>\n",
       "      <td>0</td>\n",
       "      <td>0</td>\n",
       "      <td>0</td>\n",
       "      <td>0</td>\n",
       "      <td>0</td>\n",
       "      <td>0</td>\n",
       "      <td>0</td>\n",
       "      <td>0</td>\n",
       "      <td>0</td>\n",
       "      <td>0</td>\n",
       "      <td>0</td>\n",
       "      <td>0</td>\n",
       "      <td>0</td>\n",
       "      <td>0</td>\n",
       "      <td>0</td>\n",
       "      <td>0</td>\n",
       "      <td>0</td>\n",
       "      <td>0</td>\n",
       "      <td>0</td>\n",
       "      <td>0</td>\n",
       "      <td>0</td>\n",
       "      <td>0</td>\n",
       "      <td>0</td>\n",
       "      <td>0</td>\n",
       "      <td>0</td>\n",
       "      <td>0</td>\n",
       "      <td>0</td>\n",
       "      <td>...</td>\n",
       "      <td>0</td>\n",
       "      <td>0</td>\n",
       "      <td>0</td>\n",
       "      <td>0</td>\n",
       "      <td>0</td>\n",
       "      <td>0</td>\n",
       "      <td>0</td>\n",
       "      <td>0</td>\n",
       "      <td>0</td>\n",
       "      <td>0</td>\n",
       "      <td>0</td>\n",
       "      <td>0</td>\n",
       "      <td>0</td>\n",
       "      <td>0</td>\n",
       "      <td>0</td>\n",
       "      <td>0</td>\n",
       "      <td>0</td>\n",
       "      <td>0</td>\n",
       "      <td>0</td>\n",
       "      <td>0</td>\n",
       "      <td>0</td>\n",
       "      <td>0</td>\n",
       "      <td>0</td>\n",
       "      <td>0</td>\n",
       "      <td>0</td>\n",
       "      <td>0</td>\n",
       "      <td>0</td>\n",
       "      <td>0</td>\n",
       "      <td>0</td>\n",
       "      <td>0</td>\n",
       "      <td>0</td>\n",
       "      <td>0</td>\n",
       "      <td>0</td>\n",
       "      <td>0</td>\n",
       "      <td>0</td>\n",
       "      <td>0</td>\n",
       "      <td>0</td>\n",
       "      <td>1</td>\n",
       "      <td>0</td>\n",
       "      <td>0</td>\n",
       "    </tr>\n",
       "    <tr>\n",
       "      <th>1</th>\n",
       "      <td>3</td>\n",
       "      <td>1</td>\n",
       "      <td>0</td>\n",
       "      <td>0</td>\n",
       "      <td>0</td>\n",
       "      <td>0</td>\n",
       "      <td>0</td>\n",
       "      <td>0</td>\n",
       "      <td>0</td>\n",
       "      <td>0</td>\n",
       "      <td>0</td>\n",
       "      <td>0</td>\n",
       "      <td>0</td>\n",
       "      <td>0</td>\n",
       "      <td>0</td>\n",
       "      <td>0</td>\n",
       "      <td>0</td>\n",
       "      <td>0</td>\n",
       "      <td>0</td>\n",
       "      <td>0</td>\n",
       "      <td>0</td>\n",
       "      <td>0</td>\n",
       "      <td>0</td>\n",
       "      <td>0</td>\n",
       "      <td>0</td>\n",
       "      <td>0</td>\n",
       "      <td>0</td>\n",
       "      <td>0</td>\n",
       "      <td>0</td>\n",
       "      <td>0</td>\n",
       "      <td>0</td>\n",
       "      <td>0</td>\n",
       "      <td>0</td>\n",
       "      <td>0</td>\n",
       "      <td>0</td>\n",
       "      <td>0</td>\n",
       "      <td>0</td>\n",
       "      <td>0</td>\n",
       "      <td>0</td>\n",
       "      <td>0</td>\n",
       "      <td>...</td>\n",
       "      <td>0</td>\n",
       "      <td>0</td>\n",
       "      <td>0</td>\n",
       "      <td>0</td>\n",
       "      <td>0</td>\n",
       "      <td>0</td>\n",
       "      <td>0</td>\n",
       "      <td>0</td>\n",
       "      <td>0</td>\n",
       "      <td>0</td>\n",
       "      <td>0</td>\n",
       "      <td>0</td>\n",
       "      <td>0</td>\n",
       "      <td>0</td>\n",
       "      <td>0</td>\n",
       "      <td>0</td>\n",
       "      <td>0</td>\n",
       "      <td>0</td>\n",
       "      <td>0</td>\n",
       "      <td>0</td>\n",
       "      <td>0</td>\n",
       "      <td>0</td>\n",
       "      <td>0</td>\n",
       "      <td>0</td>\n",
       "      <td>0</td>\n",
       "      <td>0</td>\n",
       "      <td>0</td>\n",
       "      <td>0</td>\n",
       "      <td>0</td>\n",
       "      <td>0</td>\n",
       "      <td>0</td>\n",
       "      <td>0</td>\n",
       "      <td>0</td>\n",
       "      <td>0</td>\n",
       "      <td>0</td>\n",
       "      <td>0</td>\n",
       "      <td>0</td>\n",
       "      <td>1</td>\n",
       "      <td>0</td>\n",
       "      <td>0</td>\n",
       "    </tr>\n",
       "    <tr>\n",
       "      <th>2</th>\n",
       "      <td>3</td>\n",
       "      <td>1</td>\n",
       "      <td>0</td>\n",
       "      <td>0</td>\n",
       "      <td>0</td>\n",
       "      <td>0</td>\n",
       "      <td>0</td>\n",
       "      <td>0</td>\n",
       "      <td>0</td>\n",
       "      <td>0</td>\n",
       "      <td>0</td>\n",
       "      <td>0</td>\n",
       "      <td>0</td>\n",
       "      <td>0</td>\n",
       "      <td>0</td>\n",
       "      <td>0</td>\n",
       "      <td>0</td>\n",
       "      <td>0</td>\n",
       "      <td>0</td>\n",
       "      <td>0</td>\n",
       "      <td>0</td>\n",
       "      <td>0</td>\n",
       "      <td>0</td>\n",
       "      <td>0</td>\n",
       "      <td>0</td>\n",
       "      <td>0</td>\n",
       "      <td>0</td>\n",
       "      <td>0</td>\n",
       "      <td>0</td>\n",
       "      <td>0</td>\n",
       "      <td>0</td>\n",
       "      <td>0</td>\n",
       "      <td>0</td>\n",
       "      <td>0</td>\n",
       "      <td>0</td>\n",
       "      <td>0</td>\n",
       "      <td>0</td>\n",
       "      <td>0</td>\n",
       "      <td>0</td>\n",
       "      <td>0</td>\n",
       "      <td>...</td>\n",
       "      <td>0</td>\n",
       "      <td>0</td>\n",
       "      <td>0</td>\n",
       "      <td>0</td>\n",
       "      <td>0</td>\n",
       "      <td>0</td>\n",
       "      <td>0</td>\n",
       "      <td>0</td>\n",
       "      <td>0</td>\n",
       "      <td>0</td>\n",
       "      <td>0</td>\n",
       "      <td>0</td>\n",
       "      <td>0</td>\n",
       "      <td>0</td>\n",
       "      <td>0</td>\n",
       "      <td>0</td>\n",
       "      <td>0</td>\n",
       "      <td>0</td>\n",
       "      <td>0</td>\n",
       "      <td>0</td>\n",
       "      <td>0</td>\n",
       "      <td>0</td>\n",
       "      <td>0</td>\n",
       "      <td>0</td>\n",
       "      <td>0</td>\n",
       "      <td>0</td>\n",
       "      <td>0</td>\n",
       "      <td>0</td>\n",
       "      <td>0</td>\n",
       "      <td>0</td>\n",
       "      <td>0</td>\n",
       "      <td>0</td>\n",
       "      <td>0</td>\n",
       "      <td>0</td>\n",
       "      <td>0</td>\n",
       "      <td>0</td>\n",
       "      <td>0</td>\n",
       "      <td>1</td>\n",
       "      <td>0</td>\n",
       "      <td>0</td>\n",
       "    </tr>\n",
       "  </tbody>\n",
       "</table>\n",
       "<p>3 rows × 305 columns</p>\n",
       "</div>"
      ],
      "text/plain": [
       "   Rooms  Abbotsford  Aberfeldie  Airport West  ...  Yarraville  h  t  u\n",
       "0      3           1           0             0  ...           0  1  0  0\n",
       "1      3           1           0             0  ...           0  1  0  0\n",
       "2      3           1           0             0  ...           0  1  0  0\n",
       "\n",
       "[3 rows x 305 columns]"
      ]
     },
     "execution_count": 71,
     "metadata": {
      "tags": []
     },
     "output_type": "execute_result"
    }
   ],
   "source": [
    "\n",
    "X = df6.drop(['Price'],axis='columns')\n",
    "X.head(3)"
   ]
  },
  {
   "cell_type": "code",
   "execution_count": null,
   "metadata": {
    "colab": {
     "base_uri": "https://localhost:8080/",
     "height": 34
    },
    "colab_type": "code",
    "id": "-i7QYMW5T_kH",
    "outputId": "24b0138c-6a48-4ff6-9721-26175aaeb2ac"
   },
   "outputs": [
    {
     "data": {
      "text/plain": [
       "(43383, 305)"
      ]
     },
     "execution_count": 72,
     "metadata": {
      "tags": []
     },
     "output_type": "execute_result"
    }
   ],
   "source": [
    "X.shape"
   ]
  },
  {
   "cell_type": "code",
   "execution_count": null,
   "metadata": {
    "colab": {
     "base_uri": "https://localhost:8080/",
     "height": 85
    },
    "colab_type": "code",
    "id": "FjA8iGqbUB47",
    "outputId": "6ed824dc-7b10-452d-d40a-ab47db7b5df2"
   },
   "outputs": [
    {
     "data": {
      "text/plain": [
       "0    1490000.0\n",
       "1    1220000.0\n",
       "2    1420000.0\n",
       "Name: Price, dtype: float64"
      ]
     },
     "execution_count": 73,
     "metadata": {
      "tags": []
     },
     "output_type": "execute_result"
    }
   ],
   "source": [
    "y = df6.Price\n",
    "y.head(3)"
   ]
  },
  {
   "cell_type": "code",
   "execution_count": null,
   "metadata": {
    "colab": {},
    "colab_type": "code",
    "id": "h0d0vxuQUDrh"
   },
   "outputs": [],
   "source": [
    "from sklearn.model_selection import train_test_split\n",
    "X_train, X_test, y_train, y_test = train_test_split(X,y,test_size=0.2,random_state=10)\n"
   ]
  },
  {
   "cell_type": "markdown",
   "metadata": {
    "colab_type": "text",
    "id": "a8w-6R7e4wS0"
   },
   "source": [
    "Use K Fold cross validation to measure accuracy of our LinearRegression model\n"
   ]
  },
  {
   "cell_type": "code",
   "execution_count": null,
   "metadata": {
    "colab": {
     "base_uri": "https://localhost:8080/",
     "height": 34
    },
    "colab_type": "code",
    "id": "KusWQ8CHUe5F",
    "outputId": "24ccb3bf-58f2-40fa-ba24-473b27bcaf43"
   },
   "outputs": [
    {
     "data": {
      "text/plain": [
       "array([0.66999263, 0.66704437, 0.65371889, 0.66866224, 0.66605074])"
      ]
     },
     "execution_count": 76,
     "metadata": {
      "tags": []
     },
     "output_type": "execute_result"
    }
   ],
   "source": [
    "from sklearn.model_selection import ShuffleSplit\n",
    "from sklearn.model_selection import cross_val_score\n",
    "\n",
    "cv = ShuffleSplit(n_splits=5, test_size=0.2, random_state=0)\n",
    "\n",
    "cross_val_score(LinearRegression(), X, y, cv=cv)"
   ]
  },
  {
   "cell_type": "code",
   "execution_count": null,
   "metadata": {
    "colab": {
     "base_uri": "https://localhost:8080/",
     "height": 34
    },
    "colab_type": "code",
    "id": "8oe9HnbVUdh7",
    "outputId": "38932934-42a1-4c3e-c695-1b0bda4fb66d"
   },
   "outputs": [
    {
     "data": {
      "text/plain": [
       "0.6767311598611496"
      ]
     },
     "execution_count": 91,
     "metadata": {
      "tags": []
     },
     "output_type": "execute_result"
    }
   ],
   "source": [
    "from sklearn.linear_model import LinearRegression\n",
    "lr_clf = LinearRegression()\n",
    "lr_clf.fit(X_train,y_train)\n",
    "lr_clf.score(X_test,y_test)\n"
   ]
  },
  {
   "cell_type": "code",
   "execution_count": null,
   "metadata": {
    "colab": {
     "base_uri": "https://localhost:8080/",
     "height": 34
    },
    "colab_type": "code",
    "id": "tlQoXjKI5lUk",
    "outputId": "4d79f053-65f2-4af8-a171-5109c55b24a4"
   },
   "outputs": [
    {
     "data": {
      "text/plain": [
       "0.7656841713566223"
      ]
     },
     "execution_count": 90,
     "metadata": {
      "tags": []
     },
     "output_type": "execute_result"
    }
   ],
   "source": [
    "\n",
    "dt_clf = DecisionTreeRegressor()\n",
    "dt_clf.fit(X_train,y_train)\n",
    "dt_clf.score(X_test,y_test)"
   ]
  },
  {
   "cell_type": "markdown",
   "metadata": {
    "colab_type": "text",
    "id": "3yXvRHD3U5IS"
   },
   "source": [
    "We can see that in 5 iterations we get a score above 60% all the time. This is pretty good but we want to test few other algorithms for regression to see if we can get even better score. We will use GridSearchCV for this purpose\n",
    "\n",
    "Find best model using GridSearchCV"
   ]
  },
  {
   "cell_type": "code",
   "execution_count": null,
   "metadata": {
    "colab": {
     "base_uri": "https://localhost:8080/",
     "height": 467
    },
    "colab_type": "code",
    "id": "HVGBW5uQU2KN",
    "outputId": "22eb8c7b-f5f2-4000-b71b-fb87fb60a144"
   },
   "outputs": [
    {
     "name": "stderr",
     "output_type": "stream",
     "text": [
      "/usr/local/lib/python3.6/dist-packages/sklearn/linear_model/_coordinate_descent.py:476: ConvergenceWarning: Objective did not converge. You might want to increase the number of iterations. Duality gap: 366149067641506.0, tolerance: 1285387846647.1277\n",
      "  positive)\n",
      "/usr/local/lib/python3.6/dist-packages/sklearn/linear_model/_coordinate_descent.py:476: ConvergenceWarning: Objective did not converge. You might want to increase the number of iterations. Duality gap: 369227752277433.0, tolerance: 1292040503076.3826\n",
      "  positive)\n",
      "/usr/local/lib/python3.6/dist-packages/sklearn/linear_model/_coordinate_descent.py:476: ConvergenceWarning: Objective did not converge. You might want to increase the number of iterations. Duality gap: 425495002952141.0, tolerance: 1282468205159.7324\n",
      "  positive)\n",
      "/usr/local/lib/python3.6/dist-packages/sklearn/linear_model/_coordinate_descent.py:476: ConvergenceWarning: Objective did not converge. You might want to increase the number of iterations. Duality gap: 600062390537559.5, tolerance: 1283305329993.4043\n",
      "  positive)\n",
      "/usr/local/lib/python3.6/dist-packages/sklearn/linear_model/_coordinate_descent.py:476: ConvergenceWarning: Objective did not converge. You might want to increase the number of iterations. Duality gap: 55375466931253.5, tolerance: 1285387846647.1277\n",
      "  positive)\n",
      "/usr/local/lib/python3.6/dist-packages/sklearn/linear_model/_coordinate_descent.py:476: ConvergenceWarning: Objective did not converge. You might want to increase the number of iterations. Duality gap: 509569253517319.75, tolerance: 1292040503076.3826\n",
      "  positive)\n",
      "/usr/local/lib/python3.6/dist-packages/sklearn/linear_model/_coordinate_descent.py:476: ConvergenceWarning: Objective did not converge. You might want to increase the number of iterations. Duality gap: 281595039785970.5, tolerance: 1282468205159.7324\n",
      "  positive)\n",
      "/usr/local/lib/python3.6/dist-packages/sklearn/linear_model/_coordinate_descent.py:476: ConvergenceWarning: Objective did not converge. You might want to increase the number of iterations. Duality gap: 499013198514520.75, tolerance: 1272753483574.637\n",
      "  positive)\n",
      "/usr/local/lib/python3.6/dist-packages/sklearn/linear_model/_coordinate_descent.py:476: ConvergenceWarning: Objective did not converge. You might want to increase the number of iterations. Duality gap: 453280270206848.75, tolerance: 1283305329993.4043\n",
      "  positive)\n"
     ]
    },
    {
     "data": {
      "text/html": [
       "<div>\n",
       "<style scoped>\n",
       "    .dataframe tbody tr th:only-of-type {\n",
       "        vertical-align: middle;\n",
       "    }\n",
       "\n",
       "    .dataframe tbody tr th {\n",
       "        vertical-align: top;\n",
       "    }\n",
       "\n",
       "    .dataframe thead th {\n",
       "        text-align: right;\n",
       "    }\n",
       "</style>\n",
       "<table border=\"1\" class=\"dataframe\">\n",
       "  <thead>\n",
       "    <tr style=\"text-align: right;\">\n",
       "      <th></th>\n",
       "      <th>model</th>\n",
       "      <th>best_score</th>\n",
       "      <th>best_params</th>\n",
       "    </tr>\n",
       "  </thead>\n",
       "  <tbody>\n",
       "    <tr>\n",
       "      <th>0</th>\n",
       "      <td>linear_regression</td>\n",
       "      <td>0.665146</td>\n",
       "      <td>{'normalize': True}</td>\n",
       "    </tr>\n",
       "    <tr>\n",
       "      <th>1</th>\n",
       "      <td>lasso</td>\n",
       "      <td>0.665146</td>\n",
       "      <td>{'alpha': 1, 'selection': 'cyclic'}</td>\n",
       "    </tr>\n",
       "    <tr>\n",
       "      <th>2</th>\n",
       "      <td>decision_tree</td>\n",
       "      <td>0.763561</td>\n",
       "      <td>{'criterion': 'friedman_mse', 'splitter': 'best'}</td>\n",
       "    </tr>\n",
       "  </tbody>\n",
       "</table>\n",
       "</div>"
      ],
      "text/plain": [
       "               model  ...                                        best_params\n",
       "0  linear_regression  ...                                {'normalize': True}\n",
       "1              lasso  ...                {'alpha': 1, 'selection': 'cyclic'}\n",
       "2      decision_tree  ...  {'criterion': 'friedman_mse', 'splitter': 'best'}\n",
       "\n",
       "[3 rows x 3 columns]"
      ]
     },
     "execution_count": 103,
     "metadata": {
      "tags": []
     },
     "output_type": "execute_result"
    }
   ],
   "source": [
    "from sklearn.model_selection import GridSearchCV\n",
    "\n",
    "from sklearn.linear_model import Lasso\n",
    "from sklearn.tree import DecisionTreeRegressor\n",
    "\n",
    "def find_best_model_using_gridsearchcv(X,y):\n",
    "    algos = {\n",
    "        'linear_regression' : {\n",
    "            'model': LinearRegression(),\n",
    "            'params': {\n",
    "                'normalize': [True, False]\n",
    "            }\n",
    "        },\n",
    "        'lasso': {\n",
    "            'model': Lasso(),\n",
    "            'params': {\n",
    "                'alpha': [1,2],\n",
    "                'selection': ['random', 'cyclic']\n",
    "            }\n",
    "        },\n",
    "        'decision_tree': {\n",
    "            'model': DecisionTreeRegressor(),\n",
    "            'params': {\n",
    "                'criterion' : ['mse','friedman_mse'],\n",
    "                'splitter': ['best','random']\n",
    "            }\n",
    "        }\n",
    "    }\n",
    "    scores = []\n",
    "    cv = ShuffleSplit(n_splits=5, test_size=0.2, random_state=0)\n",
    "    for algo_name, config in algos.items():\n",
    "        gs =  GridSearchCV(config['model'], config['params'], cv=cv, return_train_score=False)\n",
    "        gs.fit(X,y)\n",
    "        scores.append({\n",
    "            'model': algo_name,\n",
    "            'best_score': gs.best_score_,\n",
    "            'best_params': gs.best_params_\n",
    "        })\n",
    "\n",
    "    return pd.DataFrame(scores,columns=['model','best_score','best_params'])\n",
    "\n",
    "find_best_model_using_gridsearchcv(X,y)"
   ]
  },
  {
   "cell_type": "markdown",
   "metadata": {
    "colab_type": "text",
    "id": "ewpTe043KMel"
   },
   "source": [
    "\n",
    "Based on above results we can say that Decision tree gives the best score. Hence we will use that.\n",
    "\n",
    "Test the model for few properties"
   ]
  },
  {
   "cell_type": "code",
   "execution_count": null,
   "metadata": {
    "colab": {},
    "colab_type": "code",
    "id": "g9zdsUFnU81H"
   },
   "outputs": [],
   "source": [
    "\n",
    "# def predict_price(suburb,rooms):    \n",
    "#     loc_index = np.where(X.columns==suburb)[0][0]\n",
    "\n",
    "#     x = np.zeros(len(X.columns))\n",
    "# #   x[0] = Type\n",
    "#     x[0] = rooms\n",
    "#     if loc_index >= 0:\n",
    "#         x[loc_index] = 1\n",
    "\n",
    "#     return lr_clf.predict([x])[0]\n",
    "\n",
    "def predict_price(suburb,Type,rooms):    \n",
    "    loc_index = np.where(X.columns==suburb)[0][0]\n",
    "\n",
    "    x = np.zeros(len(X.columns))\n",
    "    x[0] = rooms\n",
    "    x[1] = Type\n",
    "    if loc_index >= 0:\n",
    "        x[loc_index] = 1\n",
    "\n",
    "    return dt_clf.predict([x])[0]"
   ]
  },
  {
   "cell_type": "code",
   "execution_count": null,
   "metadata": {
    "colab": {
     "base_uri": "https://localhost:8080/",
     "height": 34
    },
    "colab_type": "code",
    "id": "wGbxVoHcKR_k",
    "outputId": "7e4bd68d-f18d-4ef4-cf7e-aee82d97932c"
   },
   "outputs": [
    {
     "data": {
      "text/plain": [
       "733500.0"
      ]
     },
     "execution_count": 102,
     "metadata": {
      "tags": []
     },
     "output_type": "execute_result"
    }
   ],
   "source": [
    "predict_price('Airport West', 3, 1)"
   ]
  },
  {
   "cell_type": "code",
   "execution_count": 4,
   "metadata": {
    "colab": {},
    "colab_type": "code",
    "id": "RzAEGwkWKWJ8"
   },
   "outputs": [
    {
     "ename": "NameError",
     "evalue": "name 'pickle_dump' is not defined",
     "output_type": "error",
     "traceback": [
      "\u001b[1;31m---------------------------------------------------------------------------\u001b[0m",
      "\u001b[1;31mNameError\u001b[0m                                 Traceback (most recent call last)",
      "\u001b[1;32m<ipython-input-4-44d5237b92a1>\u001b[0m in \u001b[0;36m<module>\u001b[1;34m\u001b[0m\n\u001b[0;32m      1\u001b[0m \u001b[1;32mimport\u001b[0m \u001b[0mpickle\u001b[0m\u001b[1;33m\u001b[0m\u001b[1;33m\u001b[0m\u001b[0m\n\u001b[0;32m      2\u001b[0m \u001b[1;32mwith\u001b[0m \u001b[0mopen\u001b[0m\u001b[1;33m(\u001b[0m\u001b[1;34m'melbourne_house_price_model.pickle'\u001b[0m\u001b[1;33m,\u001b[0m\u001b[1;34m'wb'\u001b[0m\u001b[1;33m)\u001b[0m \u001b[1;32mas\u001b[0m \u001b[0mf\u001b[0m\u001b[1;33m:\u001b[0m\u001b[1;33m\u001b[0m\u001b[1;33m\u001b[0m\u001b[0m\n\u001b[1;32m----> 3\u001b[1;33m     \u001b[0mpickle_dump\u001b[0m\u001b[1;33m(\u001b[0m\u001b[0mlr_clf\u001b[0m\u001b[1;33m,\u001b[0m\u001b[0mf\u001b[0m\u001b[1;33m)\u001b[0m\u001b[1;33m\u001b[0m\u001b[1;33m\u001b[0m\u001b[0m\n\u001b[0m",
      "\u001b[1;31mNameError\u001b[0m: name 'pickle_dump' is not defined"
     ]
    }
   ],
   "source": [
    "import pickle\n",
    "with open('melbourne_house_price_model.pickle','wb') as f:\n",
    "    pickle_dump(lr_clf,f)"
   ]
  },
  {
   "cell_type": "code",
   "execution_count": null,
   "metadata": {},
   "outputs": [],
   "source": []
  }
 ],
 "metadata": {
  "colab": {
   "collapsed_sections": [],
   "name": "Data Science Regression Project: Predicting House Prices",
   "provenance": []
  },
  "kernelspec": {
   "display_name": "Python 3",
   "language": "python",
   "name": "python3"
  },
  "language_info": {
   "codemirror_mode": {
    "name": "ipython",
    "version": 3
   },
   "file_extension": ".py",
   "mimetype": "text/x-python",
   "name": "python",
   "nbconvert_exporter": "python",
   "pygments_lexer": "ipython3",
   "version": "3.7.6"
  }
 },
 "nbformat": 4,
 "nbformat_minor": 1
}
